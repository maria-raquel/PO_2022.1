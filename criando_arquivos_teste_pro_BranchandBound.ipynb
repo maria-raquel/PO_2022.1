{
 "cells": [
  {
   "cell_type": "code",
   "execution_count": 12,
   "metadata": {},
   "outputs": [
    {
     "name": "stdout",
     "output_type": "stream",
     "text": [
      "7 11\n",
      "5 7 8 1 7 5 6 20\n",
      "1 6 4 9 10 6 10 30\n",
      "4 4 4 1 5 5 10 40\n",
      "3 10 8 1 3 3 8 30\n",
      "10 8 9 9 7 6 10 20\n",
      "6 6 3 6 3 7 2 80\n",
      "7 10 7 8 7 8 7 100\n",
      "9 8 1 1 8 10 2 90\n",
      "1 5 3 10 2 4 9 70\n",
      "9 6 1 4 7 5 10 60\n",
      "5 7 4 4 3 4 10 40\n"
     ]
    }
   ],
   "source": [
    "teste1 = [\n",
    "\"5x 1 + 7x 2 + 8x 3 + 1x 4 + 7x 5 + 5x 6 + 6x 7 ≤ 20\",\n",
    "\"1x 1 + 6x 2 + 4x 3 + 9x 4 + 10x 5 + 6x 6 + 10x 7 ≤ 30\",\n",
    "\"4x 1 + 4x 2 + 4x 3 + 1x 4 + 5x 5 + 5x 6 + 10x 7 ≤ 40\",\n",
    "\"3x 1 + 10x 2 + 8x 3 + 1x 4 + 3x 5 + 3x 6 + 8x 7 ≤ 30\",\n",
    "\"10x 1 + 8x 2 + 9x 3 + 9x 4 + 7x 5 + 6x 6 + 10x 7 ≤ 20\",\n",
    "\"6x 1 + 6x 2 + 3x 3 + 6x 4 + 3x 5 + 7x 6 + 2x 7 ≤ 80\",\n",
    "\"7x 1 + 10x 2 + 7x 3 + 8x 4 + 7x 5 + 8x 6 + 7x 7 ≤ 100\",\n",
    "\"9x 1 + 8x 2 + 1x 3 + 1x 4 + 8x 5 + 10x 6 + 2x 7 ≤ 90\",\n",
    "\"1x 1 + 5x 2 + 3x 3 + 10x 4 + 2x 5 + 4x 6 + 9x 7 ≤ 70\",\n",
    "\"9x 1 + 6x 2 + 1x 3 + 4x 4 + 7x 5 + 5x 6 + 10x 7 ≤ 60\",\n",
    "\"5x 1 + 7x 2 + 4x 3 + 4x 4 + 3x 5 + 4x 6 + 10x 7 ≤ 40\"\n",
    "]\n",
    "\n",
    "print(\"7 11\")\n",
    "\n",
    "for a in teste1:\n",
    "    for i in range(1, 7):\n",
    "        a = a.replace(f\"x {i} +\", \"\")\n",
    "    a = a.replace(\"x 7 ≤\", \"\")\n",
    "    print(a)"
   ]
  },
  {
   "cell_type": "code",
   "execution_count": 11,
   "metadata": {},
   "outputs": [
    {
     "name": "stdout",
     "output_type": "stream",
     "text": [
      "9 9\n",
      "7 7 7 5 8 8 9 10 7 \n",
      "1 3 1 3 3 7 2 1 4 80\n",
      "7 6 10 1 7 2 2 7 1 90\n",
      "3 2 1 3 3 2 1 6 5 10\n",
      "10 8 3 6 10 7 3 10 4 30\n",
      "2 8 6 5 6 6 9 7 2 80\n",
      "3 10 1 9 2 7 7 9 10 90\n",
      "1 7 10 10 5 2 9 10 2 20\n",
      "10 3 2 3 10 2 1 9 7 10\n",
      "2 1 7 10 1 1 2 1 1 50\n"
     ]
    }
   ],
   "source": [
    "teste2 = [\n",
    "\"7x1 + 7x2 + 7x3 + 5x4 + 8x5 + 8x6 + 9x7 + 10x8 + 7x9\",\n",
    "\"1x1 + 3x2 + 1x3 + 3x4 + 3x5 + 7x6 + 2x7 + 1x8 + 4x9 ≤80\",\n",
    "\"7x1 + 6x2 + 10x3 + 1x4 + 7x5 + 2x6 + 2x7 + 7x8 + 1x9 ≤90\",\n",
    "\"3x1 + 2x2 + 1x3 + 3x4 + 3x5 + 2x6 + 1x7 + 6x8 + 5x9 ≤10\",\n",
    "\"10x1 + 8x2 + 3x3 + 6x4 + 10x5 + 7x6 + 3x7 + 10x8 + 4x9 ≤30\",\n",
    "\"2x1 + 8x2 + 6x3 + 5x4 + 6x5 + 6x6 + 9x7 + 7x8 + 2x9 ≤80\",\n",
    "\"3x1 + 10x2 + 1x3 + 9x4 + 2x5 + 7x6 + 7x7 + 9x8 + 10x9 ≤90\",\n",
    "\"1x1 + 7x2 + 10x3 + 10x4 + 5x5 + 2x6 + 9x7 + 10x8 + 2x9 ≤20\",\n",
    "\"10x1 + 3x2 + 2x3 + 3x4 + 10x5 + 2x6 + 1x7 + 9x8 + 7x9 ≤10\",\n",
    "\"2x1 + 1x2 + 7x3 + 10x4 + 1x5 + 1x6 + 2x7 + 1x8 + 1x9 ≤50\"\n",
    "]\n",
    "\n",
    "print(\"9 9\")\n",
    "\n",
    "for b in teste2:\n",
    "    for i in range(1, 9):\n",
    "        b = b.replace(f\"x{i} +\", \"\")\n",
    "    b = b.replace(\"x9 ≤\", \" \")\n",
    "    b = b.replace(\"x9\", \" \")\n",
    "    print(b)"
   ]
  },
  {
   "cell_type": "code",
   "execution_count": 14,
   "metadata": {},
   "outputs": [
    {
     "name": "stdout",
     "output_type": "stream",
     "text": [
      "9 12\n",
      "7 9 10 3 6 1 9 8 8 \n",
      "2 1 9 6 3 6 10 9 1 60\n",
      "8 6 6 5 2 2 4 3 6 80\n",
      "8 1 3 7 1 4 8 3 4 30\n",
      "6 3 9 5 9 6 9 9 6 40\n",
      "10 8 8 7 10 10 9 9 3 20\n",
      "10 10 10 9 10 1 8 3 10 90\n",
      "10 5 8 2 7 8 6 2 2 90\n",
      "7 9 1 9 5 8 5 9 5 80\n",
      "2 4 6 1 7 9 10 1 7 80\n",
      "8 10 2 6 7 2 2 4 9 10\n",
      "10 9 1 4 2 4 4 8 2 30\n",
      "9 4 1 8 9 5 10 5 8 30\n"
     ]
    }
   ],
   "source": [
    "teste3 = [\n",
    "\"7x1 + 9x2 + 10x3 + 3x4 + 6x5 + 1x6 + 9x7 + 8x8 + 8x9\",\n",
    "\"2x1 + 1x2 + 9x3 + 6x4 + 3x5 + 6x6 + 10x7 + 9x8 + 1x9 ≤60\",\n",
    "\"8x1 + 6x2 + 6x3 + 5x4 + 2x5 + 2x6 + 4x7 + 3x8 + 6x9 ≤80\",\n",
    "\"8x1 + 1x2 + 3x3 + 7x4 + 1x5 + 4x6 + 8x7 + 3x8 + 4x9 ≤30\",\n",
    "\"6x1 + 3x2 + 9x3 + 5x4 + 9x5 + 6x6 + 9x7 + 9x8 + 6x9 ≤40\",\n",
    "\"10x1 + 8x2 + 8x3 + 7x4 + 10x5 + 10x6 + 9x7 + 9x8 + 3x9 ≤20\",\n",
    "\"10x1 + 10x2 + 10x3 + 9x4 + 10x5 + 1x6 + 8x7 + 3x8 + 10x9 ≤90\",\n",
    "\"10x1 + 5x2 + 8x3 + 2x4 + 7x5 + 8x6 + 6x7 + 2x8 + 2x9 ≤90\",\n",
    "\"7x1 + 9x2 + 1x3 + 9x4 + 5x5 + 8x6 + 5x7 + 9x8 + 5x9 ≤80\",\n",
    "\"2x1 + 4x2 + 6x3 + 1x4 + 7x5 + 9x6 + 10x7 + 1x8 + 7x9 ≤80\",\n",
    "\"8x1 + 10x2 + 2x3 + 6x4 + 7x5 + 2x6 + 2x7 + 4x8 + 9x9 ≤10\",\n",
    "\"10x1 + 9x2 + 1x3 + 4x4 + 2x5 + 4x6 + 4x7 + 8x8 + 2x9 ≤30\",\n",
    "\"9x1 + 4x2 + 1x3 + 8x4 + 9x5 + 5x6 + 10x7 + 5x8 + 8x9 ≤30\"\n",
    "]\n",
    "print(\"9 12\")\n",
    "\n",
    "for b in teste3:\n",
    "    for i in range(1, 12):\n",
    "        b = b.replace(f\"x{i} +\", \"\")\n",
    "    b = b.replace(\"x9 ≤\", \" \")\n",
    "    b = b.replace(\"x9\", \" \")\n",
    "    print(b)"
   ]
  },
  {
   "cell_type": "code",
   "execution_count": 18,
   "metadata": {},
   "outputs": [
    {
     "name": "stdout",
     "output_type": "stream",
     "text": [
      "9 9\n",
      "9 7 10 7 9 6 8 4 9\n",
      "4 9 4 1 9 6 3 6 1 40\n",
      "3 7 8 7 6 3 5 9 4 80\n",
      "9 3 6 5 7 1 1 3 9 40\n",
      "5 9 6 5 9 7 8 7 8 10\n",
      "7 7 4 1 3 4 8 1 9 10\n",
      "1 6 6 1 6 7 3 8 7 10\n",
      "6 6 8 6 10 8 1 4 4 70\n",
      "9 1 9 7 10 5 6 2 5 10\n",
      "2 7 6 5 1 1 9 2 1 20\n"
     ]
    }
   ],
   "source": [
    "teste4 = [\n",
    "\"9x 1 + 7x 2 + 10x 3 + 7x 4 + 9x 5 + 6x 6 + 8x 7 + 4x 8 + 9x 9\",\n",
    "\"4x 1 + 9x 2 + 4x 3 + 1x 4 + 9x 5 + 6x 6 + 3x 7 + 6x 8 + 1x 9 ≤ 40\",\n",
    "\"3x 1 + 7x 2 + 8x 3 + 7x 4 + 6x 5 + 3x 6 + 5x 7 + 9x 8 + 4x 9 ≤ 80\",\n",
    "\"9x 1 + 3x 2 + 6x 3 + 5x 4 + 7x 5 + 1x 6 + 1x 7 + 3x 8 + 9x 9 ≤ 40\",\n",
    "\"5x 1 + 9x 2 + 6x 3 + 5x 4 + 9x 5 + 7x 6 + 8x 7 + 7x 8 + 8x 9 ≤ 10\",\n",
    "\"7x 1 + 7x 2 + 4x 3 + 1x 4 + 3x 5 + 4x 6 + 8x 7 + 1x 8 + 9x 9 ≤ 10\",\n",
    "\"1x 1 + 6x 2 + 6x 3 + 1x 4 + 6x 5 + 7x 6 + 3x 7 + 8x 8 + 7x 9 ≤ 10\",\n",
    "\"6x 1 + 6x 2 + 8x 3 + 6x 4 + 10x 5 + 8x 6 + 1x 7 + 4x 8 + 4x 9 ≤ 70\",\n",
    "\"9x 1 + 1x 2 + 9x 3 + 7x 4 + 10x 5 + 5x 6 + 6x 7 + 2x 8 + 5x 9 ≤ 10\",\n",
    "\"2x 1 + 7x 2 + 6x 3 + 5x 4 + 1x 5 + 1x 6 + 9x 7 + 2x 8 + 1x 9 ≤ 20\"\n",
    "]\n",
    "\n",
    "print(\"9 9\")\n",
    "\n",
    "for b in teste4:\n",
    "    for i in range(1, 9):\n",
    "        b = b.replace(f\"x {i} +\", \"\")\n",
    "    b = b.replace(\"x 9 ≤\", \"\")\n",
    "    b = b.replace(\"x 9\", \"\")\n",
    "    print(b)"
   ]
  }
 ],
 "metadata": {
  "kernelspec": {
   "display_name": "Python 3.10.5 64-bit",
   "language": "python",
   "name": "python3"
  },
  "language_info": {
   "codemirror_mode": {
    "name": "ipython",
    "version": 3
   },
   "file_extension": ".py",
   "mimetype": "text/x-python",
   "name": "python",
   "nbconvert_exporter": "python",
   "pygments_lexer": "ipython3",
   "version": "3.10.5"
  },
  "orig_nbformat": 4,
  "vscode": {
   "interpreter": {
    "hash": "a5174498a3045c6ac2ac1914efb19f017015437682d7a43ea5c7d0b4c267c120"
   }
  }
 },
 "nbformat": 4,
 "nbformat_minor": 2
}
