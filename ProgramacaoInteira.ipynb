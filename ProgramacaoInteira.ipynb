{
  "nbformat": 4,
  "nbformat_minor": 0,
  "metadata": {
    "colab": {
      "provenance": []
    },
    "kernelspec": {
      "name": "python3",
      "display_name": "Python 3"
    },
    "language_info": {
      "name": "python"
    }
  },
  "cells": [
    {
      "cell_type": "markdown",
      "source": [
        "# Aula prática: Programação Linear Inteira"
      ],
      "metadata": {
        "id": "KkkfGB7mizn4"
      }
    },
    {
      "cell_type": "markdown",
      "source": [
        "## Exercício 1\n",
        "<sup>Exercício 3.7 do livro `Pesquisa Operacional` de `Arenales, Armentano, Morabito e Yanasse`.</sup>"
      ],
      "metadata": {
        "id": "6Pq0qYFUi66C"
      }
    },
    {
      "cell_type": "markdown",
      "source": [
        "### Descrição do problema\n",
        "Em cada dia da semana, uma loja requer um número de empregados em tempo integral, de acordo com a tabela abaixo. Cada empregado deve trabalhar cinco dias consecutivos e descansar dois. Cada empregado recebe R$30 por dia.\n",
        "\n",
        "| | Segunda | Terça | Quarta | Quinta | Sexta | Sabádo | Domingo |\n",
        "|:---|:---:|:---:|:---:|:---:|:---:|:---:|:---:|\n",
        "| Empregados | 10 | 6 | 8 | 5 | 9 | 4 | 6 |\n",
        "\n",
        "Determine o número de empregados em tempo integral de forma a minimizar a despesa total com salários."
      ],
      "metadata": {
        "id": "18u4P6_fjHTa"
      }
    },
    {
      "cell_type": "markdown",
      "source": [
        "### Resolução"
      ],
      "metadata": {
        "id": "EW2_LyQlkB9Y"
      }
    },
    {
      "cell_type": "code",
      "execution_count": null,
      "metadata": {
        "id": "UToKjaulioTm",
        "colab": {
          "base_uri": "https://localhost:8080/"
        },
        "outputId": "23a6b456-868b-4eef-c78a-fd1914b8f0fb"
      },
      "outputs": [
        {
          "output_type": "stream",
          "name": "stdout",
          "text": [
            "Looking in indexes: https://pypi.org/simple, https://us-python.pkg.dev/colab-wheels/public/simple/\n",
            "Requirement already satisfied: mip in /usr/local/lib/python3.7/dist-packages (1.14.1)\n",
            "Requirement already satisfied: cffi==1.15.0 in /usr/local/lib/python3.7/dist-packages (from mip) (1.15.0)\n",
            "Requirement already satisfied: pycparser in /usr/local/lib/python3.7/dist-packages (from cffi==1.15.0->mip) (2.21)\n"
          ]
        }
      ],
      "source": [
        "# instalação e importação do pacote mip\n",
        "!pip install mip\n",
        "from mip import *\n",
        "\n",
        "# funcões usadas posteriormente:\n",
        "\n",
        "# resolve o modelo e mostra os valores das variáveis\n",
        "def solve(model):\n",
        "  status = model.optimize()\n",
        "\n",
        "  print(\"Status = \", status)\n",
        "  print(f\"Solution value  = {model.objective_value:.2f}\\n\")\n",
        "  \n",
        "  print(\"Solution:\")\n",
        "  for v in model.vars:\n",
        "      print(f\"{v.name} = {v.x:.2f}\")\n",
        "\n",
        "\n",
        "# salva modelo em arquivo lp, e mostra o conteúdo\n",
        "def save(model, filename):\n",
        "  model.write(filename) # salva modelo em arquivo\n",
        "  with open(filename, \"r\") as f: # lê e exibe conteúdo do arquivo\n",
        "    print(f.read())"
      ]
    },
    {
      "cell_type": "code",
      "source": [
        "model = Model(sense=MINIMIZE, solver_name=CBC)\n",
        "\n",
        "x = {i: model.add_var(var_type=INTEGER, name=f'x{i}', lb=0) for i in range(7)}\n",
        "\n",
        "model.objective = x[0]+x[1]+x[2]+x[3]+x[4]+x[5]+x[6]\n",
        "\n",
        "model += x[0]+x[3]+x[4]+x[5]+x[6] >= 10 #SEGUNDA\n",
        "model += x[0]+x[1]+x[4]+x[5]+x[6] >= 6 #TERÇA\n",
        "model += x[0]+x[1]+x[2]+x[5]+x[6] >= 8 #QUARTA\n",
        "model += x[0]+x[1]+x[2]+x[3]+x[6] >= 5 #QUINTA\n",
        "model += x[0]+x[1]+x[2]+x[3]+x[4] >= 9 #SEXTA\n",
        "model += x[1]+x[2]+x[3]+x[4]+x[5] >= 4 #SABADO\n",
        "model += x[2]+x[3]+x[4]+x[5]+x[6] >= 6 #DOMINGO\n",
        "\n",
        "save(model, \"model.lp\")"
      ],
      "metadata": {
        "id": "hpkM_kZ1qthr",
        "colab": {
          "base_uri": "https://localhost:8080/"
        },
        "outputId": "e32f08fb-146b-419e-d4c3-a4c538fe187d"
      },
      "execution_count": null,
      "outputs": [
        {
          "output_type": "stream",
          "name": "stdout",
          "text": [
            "\\Problem name: \n",
            "\n",
            "Minimize\n",
            "OBJROW: x0 + x1 + x2 + x3 + x4 + x5 + x6\n",
            "Subject To\n",
            "constr(0):  x0 + x3 + x4 + x5 + x6 >= 10\n",
            "constr(1):  x0 + x1 + x4 + x5 + x6 >= 6\n",
            "constr(2):  x0 + x1 + x2 + x5 + x6 >= 8\n",
            "constr(3):  x0 + x1 + x2 + x3 + x6 >= 5\n",
            "constr(4):  x0 + x1 + x2 + x3 + x4 >= 9\n",
            "constr(5):  x1 + x2 + x3 + x4 + x5 >= 4\n",
            "constr(6):  x2 + x3 + x4 + x5 + x6 >= 6\n",
            "Bounds\n",
            "Integers\n",
            "x0 x1 x2 x3 x4 x5 x6 \n",
            "End\n",
            "\n"
          ]
        }
      ]
    },
    {
      "cell_type": "code",
      "source": [
        "solve(model)"
      ],
      "metadata": {
        "id": "ob9Rw0Pvdjrv",
        "colab": {
          "base_uri": "https://localhost:8080/"
        },
        "outputId": "1bdc1163-a6b9-450e-c2e0-e049591f1727"
      },
      "execution_count": null,
      "outputs": [
        {
          "output_type": "stream",
          "name": "stdout",
          "text": [
            "Status =  OptimizationStatus.OPTIMAL\n",
            "Solution value  = 11.00\n",
            "\n",
            "Solution:\n",
            "x0 = 5.00\n",
            "x1 = 0.00\n",
            "x2 = 1.00\n",
            "x3 = 3.00\n",
            "x4 = 0.00\n",
            "x5 = 2.00\n",
            "x6 = 0.00\n"
          ]
        }
      ]
    },
    {
      "cell_type": "markdown",
      "source": [
        "## Exercício 2\n",
        "<sup>Exercício da lista do Professor Marcone</sup>"
      ],
      "metadata": {
        "id": "Bzy5FAyisRxv"
      }
    },
    {
      "cell_type": "markdown",
      "source": [
        "### Descrição do problema\n",
        "Uma serralheria dispõe de barras de 6 metros de comprimento que devem ser cortadas para obter barras menores nos seguintes tamanhos: 50 barras de 2 metros, 60 barras de 3 metros e 90 barras de 4 metros. Elabore um modelo de programação linear inteira que minimize as perdas com os cortes."
      ],
      "metadata": {
        "id": "ZhYAmS2fso88"
      }
    },
    {
      "cell_type": "markdown",
      "source": [
        "### Resolução"
      ],
      "metadata": {
        "id": "uSjlnbBgsy5M"
      }
    },
    {
      "cell_type": "code",
      "source": [
        "model = Model(sense=MINIMIZE, solver_name=CBC)\n",
        "\n",
        "x = {i: model.add_var(var_type=INTEGER, name=f'x{i}', lb=0) for i in range(4)}\n",
        "\n",
        "model.objective = x[0]+ x[1] + x[2] + x[3]\n",
        "\n",
        "model += 3*x[0] + x[2] + x[3] >= 50\n",
        "model += 2*x[1] + x[2] >= 60\n",
        "model += x[3] >= 90\n",
        "\n",
        "save(model, \"model2.lp\")"
      ],
      "metadata": {
        "id": "nuQ9Ve2Xxd6V",
        "colab": {
          "base_uri": "https://localhost:8080/"
        },
        "outputId": "333e266e-4635-4ad0-ae5a-f8fecd63fd20"
      },
      "execution_count": null,
      "outputs": [
        {
          "output_type": "stream",
          "name": "stdout",
          "text": [
            "\\Problem name: \n",
            "\n",
            "Minimize\n",
            "OBJROW: x0 + x1 + x2 + x3\n",
            "Subject To\n",
            "constr(0):  3 x0 + x2 + x3 >= 50\n",
            "constr(1):  2 x1 + x2 >= 60\n",
            "constr(2):  x3 >= 90\n",
            "Bounds\n",
            "Integers\n",
            "x0 x1 x2 x3 \n",
            "End\n",
            "\n"
          ]
        }
      ]
    },
    {
      "cell_type": "code",
      "source": [
        "solve(model)"
      ],
      "metadata": {
        "id": "VfS8iPfrdZSD",
        "colab": {
          "base_uri": "https://localhost:8080/"
        },
        "outputId": "45c1bb40-0c6a-4819-b957-b5f1120dc5fc"
      },
      "execution_count": null,
      "outputs": [
        {
          "output_type": "stream",
          "name": "stdout",
          "text": [
            "Status =  OptimizationStatus.OPTIMAL\n",
            "Solution value  = 120.00\n",
            "\n",
            "Solution:\n",
            "x0 = 0.00\n",
            "x1 = 30.00\n",
            "x2 = 0.00\n",
            "x3 = 90.00\n"
          ]
        }
      ]
    }
  ]
}