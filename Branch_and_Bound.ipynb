{
 "cells": [
  {
   "cell_type": "markdown",
   "metadata": {},
   "source": [
    "#### Branch and Bound\n",
    "João Antonio Honorato, matrícula: 20210026680\n",
    "\n",
    "Maria Raquel Martinez, matrícula: 20200025900"
   ]
  },
  {
   "cell_type": "code",
   "execution_count": 110,
   "metadata": {},
   "outputs": [],
   "source": [
    "from mip import (CBC, CONTINUOUS, MAXIMIZE, Model, xsum)"
   ]
  },
  {
   "cell_type": "code",
   "execution_count": 111,
   "metadata": {},
   "outputs": [],
   "source": [
    "## A função cria_problema lê o arquivo txt com os dados de entrada\n",
    "## e os traduz para um modelo do tipo Model\n",
    "## recebe duas strings, o caminho para o arquivo e um nome para o problema (opcional)\n",
    "def cria_problema(caminho, nome = \"\"):\n",
    "\n",
    "        ## lendo o arquivo:\n",
    "\n",
    "    entrada = open(caminho, \"r\") \n",
    "\n",
    "    linhas = entrada.readlines()\n",
    "    # lista de strings, cada elemento é uma linha da entrada\n",
    "\n",
    "    n_var = int(linhas[0].split()[0]) # número de variáveis\n",
    "    n_restr = int(linhas[0].split()[1]) # número de restrições\n",
    "\n",
    "    entrada.close()\n",
    "\n",
    "        ## instanciando o problema:\n",
    "\n",
    "    modelo = Model(nome, sense = MAXIMIZE, solver_name = CBC)\n",
    "\n",
    "    modelo.verbose = 0\n",
    "    # desabilitando o printzão enorme\n",
    "\n",
    "    x = {i: modelo.add_var(var_type = CONTINUOUS, name = f'x{i+1}', lb = 0.0, ub = 1.0,) for i in range(n_var)}\n",
    "\n",
    "    funcao_objetivo = [int(a) for a in linhas[1].split()]\n",
    "    # criando uma lista de inteiros com os coeficientes das variáveis na função objetivo\n",
    "\n",
    "    modelo.objective = xsum(funcao_objetivo[i] * x[i] for i in range(n_var))\n",
    "    # adicionando a função objetivo ao modelo\n",
    "\n",
    "    for i in range(n_restr):\n",
    "        coeficientes = [int(a) for a in linhas[i+2].split()]\n",
    "        # criando uma lista de inteiros que representa a restrição\n",
    "        # os (n_var - 1) primeiros números são os coeficientes de cada variável (para o LHS)\n",
    "        # o último número da lista é o RHS da restrição\n",
    "        modelo += xsum(coeficientes[j] * x[j] for j in range(n_var)) <= coeficientes[-1]\n",
    "        # adicionando a restrição ao modelo\n",
    "    \n",
    "    status = modelo.optimize()\n",
    "    # rodando o simplex\n",
    "\n",
    "    return modelo"
   ]
  },
  {
   "cell_type": "code",
   "execution_count": 112,
   "metadata": {},
   "outputs": [],
   "source": [
    "## imprime as informações da solução\n",
    "def imprime_solucao(modelo):\n",
    "  print(\"Problema: \" + modelo.name)\n",
    "  print(\"Status: \", modelo.status)\n",
    "  print(f\"Valor da solução: {modelo.objective_value:.2f}\")\n",
    "  \n",
    "  print(\"Variáveis:\")\n",
    "  for v in modelo.vars:\n",
    "      print(f\"  {v.name} = {v.x:.2f}\")"
   ]
  },
  {
   "cell_type": "code",
   "execution_count": 113,
   "metadata": {},
   "outputs": [],
   "source": [
    "## imprime nome, objetivo, função objetivo e restrições\n",
    "def imprime_modelo(model):\n",
    "  model.write(\"model.lp\") # salva modelo em arquivo\n",
    "  with open(\"model.lp\", \"r\") as f: # lê e exibe conteúdo do arquivo\n",
    "    print(f.read())\n",
    "  \n",
    "  # fazemos assim porque write e open são métodos próprios da classe Model\n",
    "  # porém não tem um método para imprimí-lo sem essa gambiarra"
   ]
  },
  {
   "cell_type": "code",
   "execution_count": 116,
   "metadata": {},
   "outputs": [],
   "source": [
    "## função que determina a variável na qual adicionaremos as restrições\n",
    "## retorna dois novos modelos, com tais restrições\n",
    "def ramifica(modelo : Model):\n",
    "\n",
    "        ## escolhendo a variável a ser \"restringida\"\n",
    "\n",
    "    i = 0 # contador, acompanha as variáveis percorridas\n",
    "    variavel_indice = i\n",
    "    menor_diferenca = 0.51 \n",
    "    # como as variáveis são todas 0 ou 1, a maior diferença sempre sera igual ou menor que 0.5\n",
    "    # menor_diferenca será sobrescrita com a primeira diferença calculada\n",
    "\n",
    "    for v in modelo.vars: \n",
    "        diferenca = abs(v.x - 0.5)\n",
    "        if menor_diferenca > diferenca:\n",
    "            menor_diferenca = diferenca\n",
    "            variavel_indice = i\n",
    "        i+=1\n",
    "    # determinando a variável mais próxima de 0.5 e seu índice\n",
    "\n",
    "        ## criando dois novos modelos, iguais ao anterior\n",
    "        ## cada um com uma restrição nova, xi = 0 e xi = 1  \n",
    "\n",
    "    modelo_novo_0 = modelo.copy()\n",
    "    modelo_novo_1 = modelo.copy()\n",
    "    # copiando\n",
    "\n",
    "    modelo_novo_0 += modelo_novo_0.vars[variavel_indice] == 0\n",
    "    modelo_novo_1 += modelo_novo_1.vars[variavel_indice] == 1\n",
    "    # adicionando as restrições novas\n",
    "\n",
    "    modelo_novo_0.verbose = 0\n",
    "    modelo_novo_1.verbose = 0\n",
    "    # desabilitando verbose (o printzão enorme)\n",
    "    \n",
    "    modelo_novo_0.optimize()\n",
    "    modelo_novo_1.optimize()\n",
    "    # rodando o simplex\n",
    "\n",
    "    return modelo_novo_0, modelo_novo_1"
   ]
  },
  {
   "cell_type": "code",
   "execution_count": null,
   "metadata": {},
   "outputs": [],
   "source": [
    "# def branch_and_bound(problema : Model):\n",
    "    "
   ]
  },
  {
   "cell_type": "code",
   "execution_count": 117,
   "metadata": {},
   "outputs": [
    {
     "name": "stdout",
     "output_type": "stream",
     "text": [
      "\\Problem name: TESTE 0\n",
      "\n",
      "Minimize\n",
      "OBJROW: -5 x1 -10 x2 -8 x3\n",
      "Subject To\n",
      "constr(0):  3 x1 + 5 x2 + 2 x3 <= 6\n",
      "constr(1):  4 x1 + 4 x2 + 4 x3 <= 7\n",
      "constr(2):  x2 = 0\n",
      "Bounds\n",
      " 0 <= x1 <= 1\n",
      " 0 <= x2 <= 1\n",
      " 0 <= x3 <= 1\n",
      "End\n",
      "\n",
      "Problema: TESTE 0\n",
      "Status:  OptimizationStatus.OPTIMAL\n",
      "Valor da solução: 11.75\n",
      "Variáveis:\n",
      "  x1 = 0.75\n",
      "  x2 = 0.00\n",
      "  x3 = 1.00\n"
     ]
    }
   ],
   "source": [
    "# TESTE\n",
    "\n",
    "modelo_teste = cria_problema(\"testes/teste0.txt\", \"TESTE 0\")\n",
    "a, b = ramifica(modelo_teste)\n",
    "imprime_modelo(a)\n",
    "imprime_solucao(a)"
   ]
  }
 ],
 "metadata": {
  "kernelspec": {
   "display_name": "Python 3.8.10 64-bit",
   "language": "python",
   "name": "python3"
  },
  "language_info": {
   "codemirror_mode": {
    "name": "ipython",
    "version": 3
   },
   "file_extension": ".py",
   "mimetype": "text/x-python",
   "name": "python",
   "nbconvert_exporter": "python",
   "pygments_lexer": "ipython3",
   "version": "3.8.10"
  },
  "orig_nbformat": 4,
  "vscode": {
   "interpreter": {
    "hash": "916dbcbb3f70747c44a77c7bcd40155683ae19c65e1c03b4aa3499c5328201f1"
   }
  }
 },
 "nbformat": 4,
 "nbformat_minor": 2
}
