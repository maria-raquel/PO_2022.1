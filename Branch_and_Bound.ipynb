{
 "cells": [
  {
   "cell_type": "markdown",
   "metadata": {},
   "source": [
    "#### Branch and Bound\n",
    "João Antonio Honorato, matrícula: 20210026680\n",
    "\n",
    "Maria Raquel Martinez, matrícula: 20200025900"
   ]
  },
  {
   "cell_type": "code",
   "execution_count": 2,
   "metadata": {},
   "outputs": [],
   "source": [
    "from mip import (CBC, CONTINUOUS, MAXIMIZE, Model, xsum, OptimizationStatus)"
   ]
  },
  {
   "attachments": {},
   "cell_type": "markdown",
   "metadata": {},
   "source": [
    "Primeiramente, implementaremos algumas funções que nos ajudarão a implementar a função principal, com o algoritmo Branch and Bound."
   ]
  },
  {
   "cell_type": "code",
   "execution_count": 3,
   "metadata": {},
   "outputs": [],
   "source": [
    "## A função que lê o arquivo txt com os dados de entrada\n",
    "## e os traduz para um modelo do tipo Model\n",
    "## recebe duas strings: o caminho para o arquivo e um nome para o problema (opcional)\n",
    "def cria_problema(caminho, nome = \"\"):\n",
    "\n",
    "        ## lendo o arquivo:\n",
    "\n",
    "    entrada = open(caminho, \"r\") \n",
    "\n",
    "    linhas = entrada.readlines()\n",
    "    # lista de strings; cada elemento é uma linha da entrada\n",
    "\n",
    "    n_var = int(linhas[0].split()[0]) # número de variáveis\n",
    "    n_restr = int(linhas[0].split()[1]) # número de restrições\n",
    "\n",
    "    entrada.close()\n",
    "\n",
    "        ## instanciando o problema:\n",
    "\n",
    "    modelo = Model(nome, sense = MAXIMIZE, solver_name = CBC)\n",
    "\n",
    "    modelo.verbose = 0\n",
    "    # desabilitando o printzão enorme\n",
    "\n",
    "    x = {i: modelo.add_var(var_type = CONTINUOUS, name = f'x{i+1}', lb = 0.0, ub = 1.0,) for i in range(n_var)}\n",
    "\n",
    "    funcao_objetivo = [int(a) for a in linhas[1].split()]\n",
    "    # criando uma lista de inteiros com os coeficientes das variáveis na função objetivo\n",
    "\n",
    "    modelo.objective = xsum(funcao_objetivo[i] * x[i] for i in range(n_var))\n",
    "    # adicionando a função objetivo ao modelo\n",
    "\n",
    "    for i in range(n_restr):\n",
    "        coeficientes = [int(a) for a in linhas[i+2].split()]\n",
    "        # criando uma lista de inteiros que representa a restrição\n",
    "        # os (n_var - 1) primeiros números são os coeficientes de cada variável (para o LHS)\n",
    "        # o último número da lista é o RHS da restrição\n",
    "        \n",
    "        modelo += xsum(coeficientes[j] * x[j] for j in range(n_var)) <= coeficientes[-1]\n",
    "        # adicionando a restrição ao modelo\n",
    "    \n",
    "    status = modelo.optimize()\n",
    "    # rodando o simplex\n",
    "\n",
    "    return modelo"
   ]
  },
  {
   "cell_type": "code",
   "execution_count": 4,
   "metadata": {},
   "outputs": [],
   "source": [
    "## imprime as informações da solução\n",
    "def imprime_solucao(modelo):\n",
    "  print(\"Problema: \" + modelo.name)\n",
    "  print(\"Status: \", modelo.status)\n",
    "  \n",
    "  if modelo.status == OptimizationStatus.INFEASIBLE:\n",
    "    return  \n",
    "  if modelo.status == OptimizationStatus.NO_SOLUTION_FOUND:\n",
    "    return\n",
    "  \n",
    "  print(f\"Valor da solução: {modelo.objective_value:.2f}\")\n",
    "  \n",
    "  print(\"Variáveis:\")\n",
    "  for v in modelo.vars:\n",
    "      print(f\"  {v.name} = {v.x:.2f}\")"
   ]
  },
  {
   "cell_type": "code",
   "execution_count": 6,
   "metadata": {},
   "outputs": [],
   "source": [
    "## retorna True se todas as variáveis da solução do modelo assumem valores inteiros\n",
    "def poda_por_integralidade(modelo : Model):\n",
    "    for v in modelo.vars: # percorre as variáveis\n",
    "      if v.x % 1 != 0: # calcula o resto da divisão de cada uma por 1\n",
    "        return False # se um dos restos for diferente de 0, é porque a variável é fracionária\n",
    "    \n",
    "    return True # se o loop foi encerrado sem retornar False, todas as variáveis são inteiras"
   ]
  },
  {
   "cell_type": "code",
   "execution_count": 7,
   "metadata": {},
   "outputs": [],
   "source": [
    "## retorna True se a solução encontrada é inviável ou inexistente\n",
    "def poda_por_inviabilidade(modelo : Model):\n",
    "    if modelo.status == OptimizationStatus.NO_SOLUTION_FOUND:\n",
    "        return True\n",
    "    if modelo.status == OptimizationStatus.INFEASIBLE:\n",
    "        return True\n",
    "    else:\n",
    "        return False"
   ]
  },
  {
   "cell_type": "code",
   "execution_count": 8,
   "metadata": {},
   "outputs": [],
   "source": [
    "## retorna True se a solução encontrada é menor que o limite primal\n",
    "def poda_por_limitante(modelo: Model, limite):\n",
    "    if modelo.objective_value < limite:\n",
    "        return True\n",
    "    else:\n",
    "        return False"
   ]
  },
  {
   "cell_type": "code",
   "execution_count": 9,
   "metadata": {},
   "outputs": [],
   "source": [
    "## função que determina a variável na qual adicionaremos as restrições\n",
    "## retorna dois novos modelos, com tais restrições\n",
    "def ramifica(modelo : Model):\n",
    "\n",
    "        ## escolhendo a variável a ser \"restringida\"\n",
    "\n",
    "    i = 0 # contador, acompanha as variáveis percorridas\n",
    "    variavel_indice = i\n",
    "    menor_diferenca = 0.51\n",
    "    # como as variáveis são todas 0 ou 1, a maior diferença sempre sera igual ou menor que 0.5\n",
    "\n",
    "    for v in modelo.vars: \n",
    "        diferenca = abs(v.x - 0.5)\n",
    "        if menor_diferenca > diferenca:\n",
    "            menor_diferenca = diferenca\n",
    "            variavel_indice = i\n",
    "        i+=1\n",
    "    # determinando a variável mais próxima de 0.5 e seu índice\n",
    "\n",
    "        ## criando dois novos modelos, iguais ao anterior\n",
    "        ## cada um com uma restrição nova, xi = 0 e xi = 1  \n",
    "\n",
    "    modelo_novo_0 = modelo.copy()\n",
    "    modelo_novo_1 = modelo.copy()\n",
    "    # copiando o modelo original para os novos modelos\n",
    "\n",
    "    modelo_novo_0 += modelo_novo_0.vars[variavel_indice] == 0\n",
    "    modelo_novo_1 += modelo_novo_1.vars[variavel_indice] == 1\n",
    "    # adicionando as restrições novas\n",
    "\n",
    "    modelo_novo_0.verbose = 0\n",
    "    modelo_novo_1.verbose = 0\n",
    "    # desabilitando verbose (o printzão enorme)\n",
    "    \n",
    "    modelo_novo_0.optimize()\n",
    "    modelo_novo_1.optimize()\n",
    "    # rodando o simplex\n",
    "\n",
    "    return modelo_novo_0, modelo_novo_1"
   ]
  },
  {
   "cell_type": "markdown",
   "metadata": {},
   "source": [
    "A seguir, finalmente, nossa implementação do Branch and Bound:"
   ]
  },
  {
   "cell_type": "code",
   "execution_count": 10,
   "metadata": {},
   "outputs": [],
   "source": [
    "## função que realiza o algoritmo do branch and bound\n",
    "def branch_and_bound(problema : Model):\n",
    "    \n",
    "    # temos uma fila de modelos a serem processados, que começa com o problema original\n",
    "    # cada modelo poderá ser podado ou ramificado\n",
    "    # se for ramificado, outros dois modelos serão adicionados à fila\n",
    "    # após o processamento, o modelo é desenfileirado\n",
    "    # o algoritmo continua enquanto houverem modelos na fila\n",
    "\n",
    "    fila = []\n",
    "    fila.append(problema)\n",
    "\n",
    "    melhor_solucao = float(\"-inf\")\n",
    "\n",
    "    while len(fila): # enquanto houverem modelos na fila\n",
    "        \n",
    "        if poda_por_inviabilidade(fila[0]):\n",
    "\n",
    "            # nesse caso, ele é apenas podado\n",
    "            del fila[0]\n",
    "            \n",
    "        elif poda_por_integralidade(fila[0]):\n",
    "\n",
    "            if fila[0].objective_value > melhor_solucao:\n",
    "                melhor_modelo = fila[0]\n",
    "                melhor_solucao = fila[0].objective_value\n",
    "            # se o valor da solução do modelo for melhor que o melhor valor guardado,\n",
    "            # a variável melhor_solucao será sobrescrita com o novo valor\n",
    "\n",
    "            del fila[0]\n",
    "            # podando o ramo\n",
    "\n",
    "        elif poda_por_limitante(fila[0], melhor_solucao):\n",
    "\n",
    "            # nesse caso, ele também será apenas podado\n",
    "            del fila[0]\n",
    "\n",
    "        else: # se o modelo não for podado, ele será ramificado\n",
    "\n",
    "            modelo_0, modelo_1 = ramifica(fila[0])\n",
    "            # criando dois novos modelos, a partir do atual sendo processado\n",
    "\n",
    "            del fila[0]\n",
    "            # tirando da fila\n",
    "\n",
    "            fila.append(modelo_0)\n",
    "            fila.append(modelo_1)\n",
    "            # enfileirando os dois novos modelos\n",
    "\n",
    "    # após executarmos o código para a fila inteira, retornamos o modelo com a melhor solução\n",
    "    return melhor_modelo"
   ]
  },
  {
   "cell_type": "markdown",
   "metadata": {},
   "source": [
    "Aplicação do algortimo para os testes:"
   ]
  },
  {
   "cell_type": "code",
   "execution_count": 16,
   "metadata": {},
   "outputs": [
    {
     "name": "stdout",
     "output_type": "stream",
     "text": [
      "Problema: TESTE 1\n",
      "Status:  OptimizationStatus.OPTIMAL\n",
      "Valor da solução: 20.00\n",
      "Variáveis:\n",
      "  x1 = 0.00\n",
      "  x2 = 0.00\n",
      "  x3 = 0.00\n",
      "  x4 = 0.00\n",
      "  x5 = 1.00\n",
      "  x6 = 1.00\n",
      "  x7 = 0.00\n"
     ]
    }
   ],
   "source": [
    "teste1 = cria_problema(\"testes/teste1.txt\", \"TESTE 1\")\n",
    "teste1 = branch_and_bound(teste1)\n",
    "imprime_solucao(teste1)"
   ]
  },
  {
   "cell_type": "code",
   "execution_count": 19,
   "metadata": {},
   "outputs": [
    {
     "name": "stdout",
     "output_type": "stream",
     "text": [
      "Problema: TESTE 2\n",
      "Status:  OptimizationStatus.OPTIMAL\n",
      "Valor da solução: 24.00\n",
      "Variáveis:\n",
      "  x1 = 0.00\n",
      "  x2 = 0.00\n",
      "  x3 = 0.00\n",
      "  x4 = 0.00\n",
      "  x5 = 0.00\n",
      "  x6 = 1.00\n",
      "  x7 = 1.00\n",
      "  x8 = 0.00\n",
      "  x9 = 1.00\n"
     ]
    }
   ],
   "source": [
    "teste2 = cria_problema(\"testes/teste2.txt\", \"TESTE 2\")\n",
    "teste2 = branch_and_bound(teste2)\n",
    "imprime_solucao(teste2)"
   ]
  },
  {
   "cell_type": "code",
   "execution_count": 18,
   "metadata": {},
   "outputs": [
    {
     "name": "stdout",
     "output_type": "stream",
     "text": [
      "Problema: TESTE 3\n",
      "Status:  OptimizationStatus.OPTIMAL\n",
      "Valor da solução: 19.00\n",
      "Variáveis:\n",
      "  x1 = 0.00\n",
      "  x2 = 0.00\n",
      "  x3 = 1.00\n",
      "  x4 = 0.00\n",
      "  x5 = 0.00\n",
      "  x6 = 0.00\n",
      "  x7 = 1.00\n",
      "  x8 = 0.00\n",
      "  x9 = 0.00\n"
     ]
    }
   ],
   "source": [
    "teste3 = cria_problema(\"testes/teste3.txt\", \"TESTE 3\")\n",
    "teste3 = branch_and_bound(teste3)\n",
    "imprime_solucao(teste3)"
   ]
  },
  {
   "cell_type": "code",
   "execution_count": 20,
   "metadata": {},
   "outputs": [
    {
     "name": "stdout",
     "output_type": "stream",
     "text": [
      "Problema: TESTE 4\n",
      "Status:  OptimizationStatus.OPTIMAL\n",
      "Valor da solução: 10.00\n",
      "Variáveis:\n",
      "  x1 = 0.00\n",
      "  x2 = 0.00\n",
      "  x3 = 1.00\n",
      "  x4 = 0.00\n",
      "  x5 = 0.00\n",
      "  x6 = 0.00\n",
      "  x7 = 0.00\n",
      "  x8 = 0.00\n",
      "  x9 = 0.00\n"
     ]
    }
   ],
   "source": [
    "teste4 = cria_problema(\"testes/teste4.txt\", \"TESTE 4\")\n",
    "teste4 = branch_and_bound(teste4)\n",
    "imprime_solucao(teste4)"
   ]
  }
 ],
 "metadata": {
  "kernelspec": {
   "display_name": "Python 3",
   "language": "python",
   "name": "python3"
  },
  "language_info": {
   "codemirror_mode": {
    "name": "ipython",
    "version": 3
   },
   "file_extension": ".py",
   "mimetype": "text/x-python",
   "name": "python",
   "nbconvert_exporter": "python",
   "pygments_lexer": "ipython3",
   "version": "3.10.5 (tags/v3.10.5:f377153, Jun  6 2022, 16:14:13) [MSC v.1929 64 bit (AMD64)]"
  },
  "orig_nbformat": 4,
  "vscode": {
   "interpreter": {
    "hash": "a5174498a3045c6ac2ac1914efb19f017015437682d7a43ea5c7d0b4c267c120"
   }
  }
 },
 "nbformat": 4,
 "nbformat_minor": 2
}
