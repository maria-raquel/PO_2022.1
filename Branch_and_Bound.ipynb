{
 "cells": [
  {
   "cell_type": "markdown",
   "metadata": {},
   "source": [
    "#### Branch and Bound\n",
    "João Antonio Honorato, matrícula: 20210026680\n",
    "\n",
    "Maria Raquel Martinez, matrícula: 20200025900"
   ]
  },
  {
   "cell_type": "code",
   "execution_count": 19,
   "metadata": {},
   "outputs": [],
   "source": [
    "from mip import (CBC, CONTINUOUS, MAXIMIZE, Model, xsum)"
   ]
  },
  {
   "cell_type": "code",
   "execution_count": 20,
   "metadata": {},
   "outputs": [],
   "source": [
    "## A função cria_problema lê o arquivo txt com os dados de entrada\n",
    "## e os traduz para um modelo do tipo Model\n",
    "## recebe duas strings, o caminho para o arquivo e um nome para o problema (opcional)\n",
    "def cria_problema(caminho, nome = \"\"):\n",
    "\n",
    "        ## lendo o arquivo:\n",
    "\n",
    "    entrada = open(caminho, \"r\") \n",
    "\n",
    "    linhas = entrada.readlines()\n",
    "    # lista de strings, cada elemento é uma linha da entrada\n",
    "\n",
    "    n_var = int(linhas[0].split()[0]) # número de variáveis\n",
    "    n_restr = int(linhas[0].split()[1]) # número de restrições\n",
    "\n",
    "        ## instanciando o problema:\n",
    "\n",
    "    modelo = Model(nome, sense = MAXIMIZE, solver_name = CBC)\n",
    "\n",
    "    modelo.verbose = 0\n",
    "\n",
    "    x = {i: modelo.add_var(var_type = CONTINUOUS, name = f'x{i+1}', lb = 0.0, ub = 1.0,) for i in range(n_var)}\n",
    "\n",
    "    funcao_objetivo = [int(a) for a in linhas[1].split()]\n",
    "\n",
    "    modelo.objective = xsum(funcao_objetivo[i] * x[i] for i in range(n_var))\n",
    "\n",
    "    for i in range(n_restr):\n",
    "        coeficientes = [int(a) for a in linhas[i+2].split()]\n",
    "        modelo += xsum(coeficientes[j] * x[j] for j in range(n_var)) <= coeficientes[-1]\n",
    "    \n",
    "    status = modelo.optimize()\n",
    "\n",
    "    entrada.close()\n",
    "\n",
    "    return modelo"
   ]
  },
  {
   "cell_type": "code",
   "execution_count": 21,
   "metadata": {},
   "outputs": [],
   "source": [
    "## imprime as informações da solução\n",
    "def imprime_solucao(modelo):\n",
    "  print(\"Problema: \" + modelo.name)\n",
    "  print(\"Status: \", modelo.status)\n",
    "  print(f\"Valor da solução: {modelo.objective_value:.2f}\")\n",
    "  \n",
    "  print(\"Variáveis:\")\n",
    "  for v in modelo.vars:\n",
    "      print(f\"  {v.name} = {v.x:.2f}\")"
   ]
  },
  {
   "cell_type": "code",
   "execution_count": 22,
   "metadata": {},
   "outputs": [],
   "source": [
    "## nome, objetivo, função objetivo e restrições\n",
    "def imprime_modelo(model):\n",
    "  model.write(\"model.lp\") # salva modelo em arquivo\n",
    "  with open(\"model.lp\", \"r\") as f: # lê e exibe conteúdo do arquivo\n",
    "    print(f.read())\n",
    "  \n",
    "  # fazemos assim porque write e open são métodos próprios da classe Model\n",
    "  # porém não tem um método para imprimí-lo sem essa gambiarra"
   ]
  },
  {
   "cell_type": "code",
   "execution_count": 34,
   "metadata": {},
   "outputs": [],
   "source": [
    "def ramifica(modelo : Model):\n",
    "\n",
    "    ## escolhendo a variável a ser \"restringida\"\n",
    "    ## aquela cujo valor na solução a ser ramificada mais se aproxima de 0.5\n",
    "\n",
    "    i = 0 # contador\n",
    "    menor_diferenca = float(\"inf\")\n",
    "    variavel_indice = i # índice da variável que escolheremos\n",
    "    for v in modelo.vars: \n",
    "        diferenca = abs(v.x - 0.5)\n",
    "        if menor_diferenca > diferenca:\n",
    "            menor_diferenca = diferenca\n",
    "            variavel_indice = i\n",
    "        i+=1\n",
    "\n",
    "    ## criando dois novos modelos, iguais ao anterior\n",
    "    ## cada um com uma restrição nova, xi = 0 e xi = 1  \n",
    "\n",
    "    # modelo += xsum(coeficientes[j] * x[j] for j in range(n_var)) <= coeficientes[-1]\n",
    "\n",
    "    modelo_novo_0, modelo_novo_1 = modelo, modelo\n",
    "    modelo_novo_0 += modelo_novo_0.x[i] == 0\n",
    "    modelo_novo_1 += modelo_novo_1.x[i] == 1\n",
    "\n",
    "    # imprime_modelo(modelo_novo_0)\n",
    "    # imprime_modelo(modelo_novo_1)\n",
    "\n",
    "    print()\n"
   ]
  },
  {
   "cell_type": "code",
   "execution_count": 35,
   "metadata": {},
   "outputs": [
    {
     "name": "stdout",
     "output_type": "stream",
     "text": [
      "Problema: TESTE 0\n",
      "Status:  OptimizationStatus.OPTIMAL\n",
      "Valor da solução: 28.75\n",
      "Variáveis:\n",
      "  x1 = 0.00\n",
      "  x2 = 0.87\n",
      "  x3 = 0.00\n",
      "  x4 = 0.00\n",
      "  x5 = 1.00\n",
      "  x6 = 1.00\n",
      "  x7 = 0.00\n"
     ]
    },
    {
     "ename": "AttributeError",
     "evalue": "'Model' object has no attribute 'x'",
     "output_type": "error",
     "traceback": [
      "\u001b[0;31m---------------------------------------------------------------------------\u001b[0m",
      "\u001b[0;31mAttributeError\u001b[0m                            Traceback (most recent call last)",
      "\u001b[1;32m/home/raquel/Branch_and_Bound/Branch_and_Bound.ipynb Cell 7\u001b[0m in \u001b[0;36m<cell line: 5>\u001b[0;34m()\u001b[0m\n\u001b[1;32m      <a href='vscode-notebook-cell:/home/raquel/Branch_and_Bound/Branch_and_Bound.ipynb#W4sZmlsZQ%3D%3D?line=2'>3</a>\u001b[0m modelo_teste \u001b[39m=\u001b[39m cria_problema(\u001b[39m\"\u001b[39m\u001b[39mtestes/teste1.txt\u001b[39m\u001b[39m\"\u001b[39m, \u001b[39m\"\u001b[39m\u001b[39mTESTE 0\u001b[39m\u001b[39m\"\u001b[39m)\n\u001b[1;32m      <a href='vscode-notebook-cell:/home/raquel/Branch_and_Bound/Branch_and_Bound.ipynb#W4sZmlsZQ%3D%3D?line=3'>4</a>\u001b[0m imprime_solucao(modelo_teste)\n\u001b[0;32m----> <a href='vscode-notebook-cell:/home/raquel/Branch_and_Bound/Branch_and_Bound.ipynb#W4sZmlsZQ%3D%3D?line=4'>5</a>\u001b[0m ramifica(modelo_teste)\n",
      "\u001b[1;32m/home/raquel/Branch_and_Bound/Branch_and_Bound.ipynb Cell 7\u001b[0m in \u001b[0;36mramifica\u001b[0;34m(modelo)\u001b[0m\n\u001b[1;32m     <a href='vscode-notebook-cell:/home/raquel/Branch_and_Bound/Branch_and_Bound.ipynb#W4sZmlsZQ%3D%3D?line=15'>16</a>\u001b[0m \u001b[39m## criando dois novos modelos, iguais ao anterior\u001b[39;00m\n\u001b[1;32m     <a href='vscode-notebook-cell:/home/raquel/Branch_and_Bound/Branch_and_Bound.ipynb#W4sZmlsZQ%3D%3D?line=16'>17</a>\u001b[0m \u001b[39m## cada um com uma restrição nova, xi = 0 e xi = 1  \u001b[39;00m\n\u001b[1;32m     <a href='vscode-notebook-cell:/home/raquel/Branch_and_Bound/Branch_and_Bound.ipynb#W4sZmlsZQ%3D%3D?line=17'>18</a>\u001b[0m \n\u001b[1;32m     <a href='vscode-notebook-cell:/home/raquel/Branch_and_Bound/Branch_and_Bound.ipynb#W4sZmlsZQ%3D%3D?line=18'>19</a>\u001b[0m \u001b[39m# modelo += xsum(coeficientes[j] * x[j] for j in range(n_var)) <= coeficientes[-1]\u001b[39;00m\n\u001b[1;32m     <a href='vscode-notebook-cell:/home/raquel/Branch_and_Bound/Branch_and_Bound.ipynb#W4sZmlsZQ%3D%3D?line=20'>21</a>\u001b[0m modelo_novo_0, modelo_novo_1 \u001b[39m=\u001b[39m modelo, modelo\n\u001b[0;32m---> <a href='vscode-notebook-cell:/home/raquel/Branch_and_Bound/Branch_and_Bound.ipynb#W4sZmlsZQ%3D%3D?line=21'>22</a>\u001b[0m modelo_novo_0 \u001b[39m+\u001b[39m\u001b[39m=\u001b[39m modelo_novo_0\u001b[39m.\u001b[39;49mx[i] \u001b[39m==\u001b[39m \u001b[39m0\u001b[39m\n\u001b[1;32m     <a href='vscode-notebook-cell:/home/raquel/Branch_and_Bound/Branch_and_Bound.ipynb#W4sZmlsZQ%3D%3D?line=22'>23</a>\u001b[0m modelo_novo_1 \u001b[39m+\u001b[39m\u001b[39m=\u001b[39m modelo_novo_1\u001b[39m.\u001b[39mx[i] \u001b[39m==\u001b[39m \u001b[39m1\u001b[39m\n\u001b[1;32m     <a href='vscode-notebook-cell:/home/raquel/Branch_and_Bound/Branch_and_Bound.ipynb#W4sZmlsZQ%3D%3D?line=24'>25</a>\u001b[0m \u001b[39m# imprime_modelo(modelo_novo_0)\u001b[39;00m\n\u001b[1;32m     <a href='vscode-notebook-cell:/home/raquel/Branch_and_Bound/Branch_and_Bound.ipynb#W4sZmlsZQ%3D%3D?line=25'>26</a>\u001b[0m \u001b[39m# imprime_modelo(modelo_novo_1)\u001b[39;00m\n",
      "\u001b[0;31mAttributeError\u001b[0m: 'Model' object has no attribute 'x'"
     ]
    }
   ],
   "source": [
    "# TESTE\n",
    "\n",
    "modelo_teste = cria_problema(\"testes/teste1.txt\", \"TESTE 0\")\n",
    "imprime_solucao(modelo_teste)\n",
    "ramifica(modelo_teste)"
   ]
  }
 ],
 "metadata": {
  "kernelspec": {
   "display_name": "Python 3.8.10 64-bit",
   "language": "python",
   "name": "python3"
  },
  "language_info": {
   "codemirror_mode": {
    "name": "ipython",
    "version": 3
   },
   "file_extension": ".py",
   "mimetype": "text/x-python",
   "name": "python",
   "nbconvert_exporter": "python",
   "pygments_lexer": "ipython3",
   "version": "3.8.10"
  },
  "orig_nbformat": 4,
  "vscode": {
   "interpreter": {
    "hash": "916dbcbb3f70747c44a77c7bcd40155683ae19c65e1c03b4aa3499c5328201f1"
   }
  }
 },
 "nbformat": 4,
 "nbformat_minor": 2
}
