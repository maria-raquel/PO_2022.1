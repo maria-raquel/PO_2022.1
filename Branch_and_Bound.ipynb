{
 "cells": [
  {
   "cell_type": "markdown",
   "metadata": {},
   "source": [
    "#### Branch and Bound\n",
    "João Antonio Honorato, matrícula: 20210026680\n",
    "\n",
    "Maria Raquel Martinez, matrícula: 20200025900"
   ]
  },
  {
   "cell_type": "code",
   "execution_count": 37,
   "metadata": {},
   "outputs": [],
   "source": [
    "from mip import (CBC, CONTINUOUS, MAXIMIZE, Model, xsum)"
   ]
  },
  {
   "cell_type": "code",
   "execution_count": 38,
   "metadata": {},
   "outputs": [],
   "source": [
    "## A função cria_problema lê o arquivo txt com os dados de entrada\n",
    "## e os traduz para um modelo do tipo Model\n",
    "## recebe duas strings, o caminho para o arquivo e um nome para o problema (opcional)\n",
    "def cria_problema(caminho, nome = \"\"):\n",
    "\n",
    "        ## lendo o arquivo:\n",
    "\n",
    "    entrada = open(caminho, \"r\") \n",
    "\n",
    "    linhas = entrada.readlines()\n",
    "    # lista de strings, cada elemento é uma linha da entrada\n",
    "\n",
    "    n_var = int(linhas[0].split()[0]) # número de variáveis\n",
    "    n_restr = int(linhas[0].split()[1]) # número de restrições\n",
    "\n",
    "        ## instanciando o problema:\n",
    "\n",
    "    modelo = Model(nome, sense = MAXIMIZE, solver_name = CBC)\n",
    "\n",
    "    modelo.verbose = 0\n",
    "\n",
    "    x = {i: modelo.add_var(var_type = CONTINUOUS, name = f'x{i+1}', lb = 0.0, ub = 1.0,) for i in range(n_var)}\n",
    "\n",
    "    funcao_objetivo = [int(a) for a in linhas[1].split()]\n",
    "\n",
    "    modelo.objective = xsum(funcao_objetivo[i] * x[i] for i in range(n_var))\n",
    "\n",
    "    for i in range(n_restr):\n",
    "        coeficientes = [int(a) for a in linhas[i+2].split()]\n",
    "        modelo += xsum(coeficientes[j] * x[j] for j in range(n_var)) <= coeficientes[-1]\n",
    "    \n",
    "    status = modelo.optimize()\n",
    "\n",
    "    entrada.close()\n",
    "\n",
    "    return modelo"
   ]
  },
  {
   "cell_type": "code",
   "execution_count": 39,
   "metadata": {},
   "outputs": [],
   "source": [
    "## imprime as informações da solução\n",
    "def imprime_solucao(modelo):\n",
    "  print(\"Problema: \" + modelo.name)\n",
    "  print(\"Status: \", modelo.status)\n",
    "  print(f\"Valor da solução: {modelo.objective_value:.2f}\")\n",
    "  \n",
    "  print(\"Variáveis:\")\n",
    "  for v in modelo.vars:\n",
    "      print(f\"  {v.name} = {v.x:.2f}\")"
   ]
  },
  {
   "cell_type": "code",
   "execution_count": 40,
   "metadata": {},
   "outputs": [],
   "source": [
    "## imprime nome, objetivo, função objetivo e restrições\n",
    "def imprime_modelo(model):\n",
    "  model.write(\"model.lp\") # salva modelo em arquivo\n",
    "  with open(\"model.lp\", \"r\") as f: # lê e exibe conteúdo do arquivo\n",
    "    print(f.read())\n",
    "  \n",
    "  # fazemos assim porque write e open são métodos próprios da classe Model\n",
    "  # porém não tem um método para imprimí-lo sem essa gambiarra"
   ]
  },
  {
   "cell_type": "code",
   "execution_count": 93,
   "metadata": {},
   "outputs": [],
   "source": [
    "def ramifica(modelo : Model):\n",
    "\n",
    "    ## escolhendo a variável a ser \"restringida\"\n",
    "    ## aquela cujo valor na solução a ser ramificada mais se aproxima de 0.5\n",
    "\n",
    "    i = 0 # contador, acompanha as variáveis percorridas\n",
    "    menor_diferenca = float(\"inf\")\n",
    "    variavel_indice = i # índice da variável que escolheremos\n",
    "    for v in modelo.vars: \n",
    "        diferenca = abs(v.x - 0.5)\n",
    "        if menor_diferenca > diferenca:\n",
    "            menor_diferenca = diferenca\n",
    "            variavel_indice = i\n",
    "        i+=1\n",
    "\n",
    "    ## criando dois novos modelos, iguais ao anterior\n",
    "    ## cada um com uma restrição nova, xi = 0 e xi = 1  \n",
    "\n",
    "    modelo_novo_0 = modelo.copy()\n",
    "    modelo_novo_1 = modelo.copy()\n",
    "    modelo_novo_0 += modelo_novo_0.vars[variavel_indice] == 0\n",
    "    modelo_novo_1 += modelo_novo_1.vars[variavel_indice] == 1\n",
    "\n",
    "    return modelo_novo_0, modelo_novo_1"
   ]
  },
  {
   "cell_type": "code",
   "execution_count": 96,
   "metadata": {},
   "outputs": [
    {
     "name": "stdout",
     "output_type": "stream",
     "text": [
      "\\Problem name: TESTE 0\n",
      "\n",
      "Minimize\n",
      "OBJROW: -5 x1 -10 x2 -8 x3\n",
      "Subject To\n",
      "constr(0):  3 x1 + 5 x2 + 2 x3 <= 6\n",
      "constr(1):  4 x1 + 4 x2 + 4 x3 <= 7\n",
      "constr(2):  x2 = 1\n",
      "Bounds\n",
      " 0 <= x1 <= 1\n",
      " 0 <= x2 <= 1\n",
      " 0 <= x3 <= 1\n",
      "End\n",
      "\n"
     ]
    }
   ],
   "source": [
    "# TESTE\n",
    "\n",
    "modelo_teste = cria_problema(\"testes/teste0.txt\", \"TESTE 0\")\n",
    "# imprime_solucao(modelo_teste)\n",
    "a, b = ramifica(modelo_teste)\n",
    "imprime_modelo(b)"
   ]
  }
 ],
 "metadata": {
  "kernelspec": {
   "display_name": "Python 3.8.10 64-bit",
   "language": "python",
   "name": "python3"
  },
  "language_info": {
   "codemirror_mode": {
    "name": "ipython",
    "version": 3
   },
   "file_extension": ".py",
   "mimetype": "text/x-python",
   "name": "python",
   "nbconvert_exporter": "python",
   "pygments_lexer": "ipython3",
   "version": "3.8.10"
  },
  "orig_nbformat": 4,
  "vscode": {
   "interpreter": {
    "hash": "916dbcbb3f70747c44a77c7bcd40155683ae19c65e1c03b4aa3499c5328201f1"
   }
  }
 },
 "nbformat": 4,
 "nbformat_minor": 2
}
