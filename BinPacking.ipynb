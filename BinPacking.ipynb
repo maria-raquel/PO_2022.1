{
  "cells": [
    {
      "cell_type": "markdown",
      "metadata": {
        "id": "KkkfGB7mizn4"
      },
      "source": [
        "# Aula prática: Bin Packing\n"
      ]
    },
    {
      "cell_type": "markdown",
      "metadata": {
        "id": "6Pq0qYFUi66C"
      },
      "source": [
        "## Exercício 1\n"
      ]
    },
    {
      "cell_type": "markdown",
      "metadata": {
        "id": "18u4P6_fjHTa"
      },
      "source": [
        "### Descrição do problema\n",
        "Uma faculdade quer agendar as provas de 6 disciplinas. Existe uma regra que proíbe que o mesmo aluno tenha que fazer mais de uma prova por dia. A tabela abaixo mostra quais alunos (identificados por números) vão fazer a prova de cada disciplina. Por exemplo, A e B não podem ser agendadas no mesmo dia por causa do aluno 1. Já B e C poderiam ser agendadas no mesmo dia, pois nenhum aluno vai fazer essas duas provas.\n",
        "\n",
        "| Disciplina | Alunos |\n",
        "|:---:|:---:|\n",
        "| A | 1, 2, 3, 4 |\n",
        "| B | 1, 5 |\n",
        "| C | 3, 6, 7 |\n",
        "| D | 5, 7 |\n",
        "| E | 2, 7 |\n",
        "| F | 4, 5 |\n",
        "\n",
        "Crie um modelo de PLI para agendar essas provas no menor número de dias possível.\n",
        "**Dica: baseie-se no modelo do problema de empacotamento de caixas.**\n"
      ]
    },
    {
      "cell_type": "markdown",
      "metadata": {
        "id": "EW2_LyQlkB9Y"
      },
      "source": [
        "### Resolução"
      ]
    },
    {
      "cell_type": "code",
      "execution_count": 1,
      "metadata": {
        "colab": {
          "base_uri": "https://localhost:8080/"
        },
        "id": "UToKjaulioTm",
        "outputId": "fe27fbef-5fbf-4904-cc48-6404cb756c91"
      },
      "outputs": [
        {
          "name": "stdout",
          "output_type": "stream",
          "text": [
            "Requirement already satisfied: mip in /home/raquel/.local/lib/python3.8/site-packages (1.14.1)\n",
            "Requirement already satisfied: cffi==1.15.0 in /home/raquel/.local/lib/python3.8/site-packages (from mip) (1.15.0)\n",
            "Requirement already satisfied: pycparser in /home/raquel/.local/lib/python3.8/site-packages (from cffi==1.15.0->mip) (2.21)\n"
          ]
        }
      ],
      "source": [
        "# instalação e importação do pacote mip\n",
        "!pip install mip\n",
        "from mip import *\n",
        "\n",
        "# funcões usadas posteriormente:\n",
        "\n",
        "# resolve o modelo e mostra os valores das variáveis\n",
        "def solve(model):\n",
        "  status = model.optimize()\n",
        "\n",
        "  print(\"Status = \", status)\n",
        "  if status != OptimizationStatus.OPTIMAL:\n",
        "    return\n",
        "\n",
        "  print(f\"Solution value  = {model.objective_value:.2f}\\n\")\n",
        "  \n",
        "  print(\"Solution:\")\n",
        "  for v in model.vars:\n",
        "    if v.x > 0.001:\n",
        "      print(f\"{v.name} = {v.x:.2f}\")\n",
        "\n",
        "\n",
        "# salva modelo em arquivo lp, e mostra o conteúdo\n",
        "def save(model, filename):\n",
        "  model.write(filename) # salva modelo em arquivo\n",
        "  with open(filename, \"r\") as f: # lê e exibe conteúdo do arquivo\n",
        "    print(f.read())"
      ]
    },
    {
      "cell_type": "code",
      "execution_count": 6,
      "metadata": {
        "colab": {
          "base_uri": "https://localhost:8080/"
        },
        "id": "zL3qpuLbkFDK",
        "outputId": "8bcd3756-56ef-4532-db5d-a91c0ec84cda"
      },
      "outputs": [
        {
          "name": "stdout",
          "output_type": "stream",
          "text": [
            "\\Problem name: \n",
            "\n",
            "Minimize\n",
            "OBJROW: d0 + d1 + d2 + d3 + d4 + d5\n",
            "Subject To\n",
            "constr(0):  - d0 + p0_A + p0_B <= -0\n",
            "constr(1):  - d1 + p1_A + p1_B <= -0\n",
            "constr(2):  - d2 + p2_A + p2_B <= -0\n",
            "constr(3):  - d3 + p3_A + p3_B <= -0\n",
            "constr(4):  - d4 + p4_A + p4_B <= -0\n",
            "constr(5):  - d5 + p5_A + p5_B <= -0\n",
            "constr(6):  - d0 + p0_A + p0_E <= -0\n",
            "constr(7):  - d1 + p1_A + p1_E <= -0\n",
            "constr(8):  - d2 + p2_A + p2_E <= -0\n",
            "constr(9):  - d3 + p3_A + p3_E <= -0\n",
            "constr(10):  - d4 + p4_A + p4_E <= -0\n",
            "constr(11):  - d5 + p5_A + p5_E <= -0\n",
            "constr(12):  - d0 + p0_A + p0_C <= -0\n",
            "constr(13):  - d1 + p1_A + p1_C <= -0\n",
            "constr(14):  - d2 + p2_A + p2_C <= -0\n",
            "constr(15):  - d3 + p3_A + p3_C <= -0\n",
            "constr(16):  - d4 + p4_A + p4_C <= -0\n",
            "constr(17):  - d5 + p5_A + p5_C <= -0\n",
            "constr(18):  - d0 + p0_A + p0_F <= -0\n",
            "constr(19):  - d1 + p1_A + p1_F <= -0\n",
            "constr(20):  - d2 + p2_A + p2_F <= -0\n",
            "constr(21):  - d3 + p3_A + p3_F <= -0\n",
            "constr(22):  - d4 + p4_A + p4_F <= -0\n",
            "constr(23):  - d5 + p5_A + p5_F <= -0\n",
            "constr(24):  - d0 + p0_B + p0_D + p0_F <= -0\n",
            "constr(25):  - d1 + p1_B + p1_D + p1_F <= -0\n",
            "constr(26):  - d2 + p2_B + p2_D + p2_F <= -0\n",
            "constr(27):  - d3 + p3_B + p3_D + p3_F <= -0\n",
            "constr(28):  - d4 + p4_B + p4_D + p4_F <= -0\n",
            "constr(29):  - d5 + p5_B + p5_D + p5_F <= -0\n",
            "constr(30):  - d0 + p0_C <= -0\n",
            "constr(31):  - d1 + p1_C <= -0\n",
            "constr(32):  - d2 + p2_C <= -0\n",
            "constr(33):  - d3 + p3_C <= -0\n",
            "constr(34):  - d4 + p4_C <= -0\n",
            "constr(35):  - d5 + p5_C <= -0\n",
            "constr(36):  - d0 + p0_C + p0_D + p0_E <= -0\n",
            "constr(37):  - d1 + p1_C + p1_D + p1_E <= -0\n",
            "constr(38):  - d2 + p2_C + p2_D + p2_E <= -0\n",
            "constr(39):  - d3 + p3_C + p3_D + p3_E <= -0\n",
            "constr(40):  - d4 + p4_C + p4_D + p4_E <= -0\n",
            "constr(41):  - d5 + p5_C + p5_D + p5_E <= -0\n",
            "constr(42):  p0_A + p1_A + p2_A + p3_A + p4_A + p5_A = 1\n",
            "constr(43):  p0_B + p1_B + p2_B + p3_B + p4_B + p5_B = 1\n",
            "constr(44):  p0_C + p1_C + p2_C + p3_C + p4_C + p5_C = 1\n",
            "constr(45):  p0_D + p1_D + p2_D + p3_D + p4_D + p5_D = 1\n",
            "constr(46):  p0_E + p1_E + p2_E + p3_E + p4_E + p5_E = 1\n",
            "constr(47):  p0_F + p1_F + p2_F + p3_F + p4_F + p5_F = 1\n",
            "Bounds\n",
            " 0 <= d0 <= 1\n",
            " 0 <= d1 <= 1\n",
            " 0 <= d2 <= 1\n",
            " 0 <= d3 <= 1\n",
            " 0 <= d4 <= 1\n",
            " 0 <= d5 <= 1\n",
            " 0 <= p0_A <= 1\n",
            " 0 <= p0_B <= 1\n",
            " 0 <= p0_C <= 1\n",
            " 0 <= p0_D <= 1\n",
            " 0 <= p0_E <= 1\n",
            " 0 <= p0_F <= 1\n",
            " 0 <= p1_A <= 1\n",
            " 0 <= p1_B <= 1\n",
            " 0 <= p1_C <= 1\n",
            " 0 <= p1_D <= 1\n",
            " 0 <= p1_E <= 1\n",
            " 0 <= p1_F <= 1\n",
            " 0 <= p2_A <= 1\n",
            " 0 <= p2_B <= 1\n",
            " 0 <= p2_C <= 1\n",
            " 0 <= p2_D <= 1\n",
            " 0 <= p2_E <= 1\n",
            " 0 <= p2_F <= 1\n",
            " 0 <= p3_A <= 1\n",
            " 0 <= p3_B <= 1\n",
            " 0 <= p3_C <= 1\n",
            " 0 <= p3_D <= 1\n",
            " 0 <= p3_E <= 1\n",
            " 0 <= p3_F <= 1\n",
            " 0 <= p4_A <= 1\n",
            " 0 <= p4_B <= 1\n",
            " 0 <= p4_C <= 1\n",
            " 0 <= p4_D <= 1\n",
            " 0 <= p4_E <= 1\n",
            " 0 <= p4_F <= 1\n",
            " 0 <= p5_A <= 1\n",
            " 0 <= p5_B <= 1\n",
            " 0 <= p5_C <= 1\n",
            " 0 <= p5_D <= 1\n",
            " 0 <= p5_E <= 1\n",
            " 0 <= p5_F <= 1\n",
            "Integers\n",
            "d0 d1 d2 d3 d4 d5 p0_A p0_B p0_C p0_D \n",
            "p0_E p0_F p1_A p1_B p1_C p1_D p1_E p1_F p2_A p2_B \n",
            "p2_C p2_D p2_E p2_F p3_A p3_B p3_C p3_D p3_E p3_F \n",
            "p4_A p4_B p4_C p4_D p4_E p4_F p5_A p5_B p5_C p5_D \n",
            "p5_E p5_F \n",
            "End\n",
            "\n"
          ]
        }
      ],
      "source": [
        "model = Model(sense=MINIMIZE, solver_name=CBC)\n",
        "\n",
        "d = {i: model.add_var(var_type=BINARY, name=f'd{i}') for i in range(6)}\n",
        "\n",
        "disciplinas = ['A', 'B', 'C', 'D', 'E', 'F']\n",
        "p = {}\n",
        "for i in range(6):\n",
        "  p[i] = {j: model.add_var(var_type=BINARY, name=f'p{i}_{j}') for j in disciplinas}\n",
        "\n",
        "model.objective = d[0] + d[1] + d[2] + d[3] + d[4] + d[5]\n",
        "\n",
        "alunos = {1: ['A', 'B'], 2: ['A', 'E'], 3: ['A', 'C'], 4: ['A', 'F'], 5: ['B', 'D', 'F'], 6: ['C'], 7: ['C', 'D', 'E']}\n",
        "\n",
        "for k in range(1, 8): #percorre alunos\n",
        "  for i in range(6): #percorre dias\n",
        "    model += xsum (p[i][j] for j in alunos[k]) <= d[i]\n",
        "\n",
        "for disc in disciplinas:\n",
        "  model += xsum (p[i][disc] for i in range(6)) == 1\n",
        "\n",
        "save(model, \"model.lp\")"
      ]
    },
    {
      "cell_type": "code",
      "execution_count": 11,
      "metadata": {},
      "outputs": [
        {
          "data": {
            "text/plain": [
              "mip.entities.Var"
            ]
          },
          "execution_count": 11,
          "metadata": {},
          "output_type": "execute_result"
        }
      ],
      "source": [
        "type(d[0])"
      ]
    },
    {
      "cell_type": "code",
      "execution_count": 3,
      "metadata": {
        "colab": {
          "base_uri": "https://localhost:8080/"
        },
        "id": "7UZSDiDMmHqH",
        "outputId": "000f4399-6d4f-493b-9bb6-17a84dc3d317"
      },
      "outputs": [
        {
          "name": "stdout",
          "output_type": "stream",
          "text": [
            "Welcome to the CBC MILP Solver \n",
            "Version: Trunk\n",
            "Build Date: Oct 24 2021 \n",
            "\n",
            "Starting solution of the Linear programming relaxation problem using Primal Simplex\n",
            "\n",
            "Coin0506I Presolve 48 (0) rows, 42 (0) columns and 168 (0) elements\n",
            "Clp1000I sum of infeasibilities 3.92397e-12 - average 8.17494e-14, 0 fixed columns\n",
            "Coin0506I Presolve 48 (0) rows, 42 (0) columns and 168 (0) elements\n",
            "Clp0029I End of values pass after 42 iterations\n",
            "Clp0000I Optimal - objective value 3\n",
            "Clp0000I Optimal - objective value 3\n",
            "Clp0000I Optimal - objective value 3\n",
            "Clp0032I Optimal objective 3 - 0 iterations time 0.012, Idiot 0.00\n",
            "\n",
            "Starting MIP optimization\n",
            "Cgl0003I 0 fixed, 0 tightened bounds, 18 strengthened rows, 0 substitutions\n",
            "Cgl0003I 0 fixed, 0 tightened bounds, 13 strengthened rows, 0 substitutions\n",
            "Cgl0003I 0 fixed, 0 tightened bounds, 5 strengthened rows, 0 substitutions\n",
            "Cgl0004I processed model has 30 rows, 42 columns (42 integer (42 of which binary)) and 132 elements\n",
            "Coin3009W Conflict graph built in 0.001 seconds, density: 6.387%\n",
            "Cgl0015I Clique Strengthening extended 0 cliques, 0 were dominated\n",
            "Cbc0045I Nauty: 8 orbits (3 useful covering 42 variables), 8 generators, group size: 11520 - sparse size 518 - took 0.000214 seconds\n",
            "Cbc0038I Initial state - 0 integers unsatisfied sum - 0\n",
            "Cbc0038I Solution found of 3\n",
            "Cbc0038I Before mini branch and bound, 42 integers at bound fixed and 0 continuous\n",
            "Cbc0038I Mini branch and bound did not improve solution (0.01 seconds)\n",
            "Cbc0038I After 0.01 seconds - Feasibility pump exiting with objective of 3 - took 0.00 seconds\n",
            "Cbc0012I Integer solution of 3 found by feasibility pump after 0 iterations and 0 nodes (0.01 seconds)\n",
            "Cbc0001I Search completed - best objective 3, took 0 iterations and 0 nodes (0.01 seconds)\n",
            "Cbc0035I Maximum depth 0, 0 variables fixed on reduced cost\n",
            "Total time (CPU seconds):       0.01   (Wallclock seconds):       0.01\n",
            "\n",
            "Status =  OptimizationStatus.OPTIMAL\n",
            "Solution value  = 3.00\n",
            "\n",
            "Solution:\n",
            "d0 = 1.00\n",
            "d2 = 1.00\n",
            "d5 = 1.00\n",
            "p0_A = 1.00\n",
            "p0_D = 1.00\n",
            "p2_B = 1.00\n",
            "p2_C = 1.00\n",
            "p5_E = 1.00\n",
            "p5_F = 1.00\n"
          ]
        }
      ],
      "source": [
        "solve(model)"
      ]
    }
  ],
  "metadata": {
    "colab": {
      "collapsed_sections": [
        "18u4P6_fjHTa"
      ],
      "provenance": []
    },
    "kernelspec": {
      "display_name": "Python 3.8.10 64-bit",
      "language": "python",
      "name": "python3"
    },
    "language_info": {
      "codemirror_mode": {
        "name": "ipython",
        "version": 3
      },
      "file_extension": ".py",
      "mimetype": "text/x-python",
      "name": "python",
      "nbconvert_exporter": "python",
      "pygments_lexer": "ipython3",
      "version": "3.8.10"
    },
    "vscode": {
      "interpreter": {
        "hash": "916dbcbb3f70747c44a77c7bcd40155683ae19c65e1c03b4aa3499c5328201f1"
      }
    }
  },
  "nbformat": 4,
  "nbformat_minor": 0
}
