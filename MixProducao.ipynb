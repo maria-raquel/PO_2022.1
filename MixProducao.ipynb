{
  "cells": [
    {
      "cell_type": "markdown",
      "metadata": {
        "id": "btv0znHmsR5D"
      },
      "source": [
        "# Aula prática: Mix de Produção\n",
        "<sup>Adaptado dos exercícios 2.3 e 2.5 do livro `Pesquisa Operaciona` de `Arenales, Armentano, Morabito e Yanass`.</sup>"
      ]
    },
    {
      "cell_type": "markdown",
      "metadata": {
        "id": "0hUSOEftsR5E"
      },
      "source": [
        "## Exercício 1"
      ]
    },
    {
      "cell_type": "markdown",
      "metadata": {
        "id": "T_SOsXELsR5E"
      },
      "source": [
        "### Descrição do problema\n",
        "Uma fundição tem de produzir 10 toneladas de um tipo de liga metálica e, para isso, tem disponível: lingotes de ferro, grafite e sucata. Dois componentes são relevantes para a liga: carbono e silício. As tabelas a seguir fornecem a fração desses elementos nos ingredientes disponíveis, seus custos unitários, bem como a composição da liga (isto é, porcentagens mínimas e máximas de cada componente da liga).\n",
        "\n",
        "Composição(%) e custo(R$/ton):\n",
        "\n",
        "| | Lingotes | Grafite | Sucata |\n",
        "|:---|:---:|:---:|:---:|\n",
        "| Carbono | 0.005 | 0.9 | 0.09 |\n",
        "| Silício | 0.14 | - | 0.27 |\n",
        "| Custo | 90 | 180 | 25 |\n",
        "\n",
        "Composição(%) mínima e máxima:\n",
        "\n",
        "| | min | max |\n",
        "|:---|:---:|:---:|\n",
        "|Carbono | 0.0 | 0.095 |\n",
        "|Silício | 0.19 | 0.2 |\n",
        "\n",
        "\n",
        "Escreva um modelo de otimização linear para determinar as quantidades dos ingredientes para compor a liga metálica, de modo que as especificações técnicas sejam satisfeitas e o custo seja mínimo."
      ]
    },
    {
      "cell_type": "markdown",
      "metadata": {
        "id": "EtPxBakTtQbV"
      },
      "source": [
        "### Resolução"
      ]
    },
    {
      "cell_type": "code",
      "execution_count": null,
      "metadata": {
        "id": "7pMG-i60tGC4",
        "outputId": "c55c6514-4a3b-44de-8711-715a3dbd99c5",
        "colab": {
          "base_uri": "https://localhost:8080/"
        }
      },
      "outputs": [
        {
          "output_type": "stream",
          "name": "stdout",
          "text": [
            "Looking in indexes: https://pypi.org/simple, https://us-python.pkg.dev/colab-wheels/public/simple/\n",
            "Requirement already satisfied: mip in /usr/local/lib/python3.7/dist-packages (1.14.0)\n",
            "Requirement already satisfied: cffi in /usr/local/lib/python3.7/dist-packages (from mip) (1.15.1)\n",
            "Requirement already satisfied: pycparser in /usr/local/lib/python3.7/dist-packages (from cffi->mip) (2.21)\n"
          ]
        }
      ],
      "source": [
        "# instalação e importação do pacote mip\n",
        "!pip install mip\n",
        "\n",
        "from mip import *"
      ]
    },
    {
      "cell_type": "markdown",
      "metadata": {
        "id": "Soe9owdkxmmg"
      },
      "source": [
        "Carrega Dados"
      ]
    },
    {
      "cell_type": "code",
      "execution_count": null,
      "metadata": {
        "id": "1foz1NwTtzuH"
      },
      "outputs": [],
      "source": [
        "# composição de cada ingrediente\n",
        "a = {\n",
        "    'l': {'c': 0.005, 's': 0.14},\n",
        "    'g': {'c': 0.9,   's': 0.0},\n",
        "    's': {'c': 0.09,  's': 0.27},\n",
        "    }\n",
        "\n",
        "# custo\n",
        "c = {'l': 90, 'g': 180, 's': 25}\n",
        "\n",
        "# composições mínimas e máximas dos componentes\n",
        "n = {'c': 0.0, 's': 0.19}  # min\n",
        "m = {'c': 0.095, 's': 0.2} # max\n",
        "\n",
        "# quantidade desejada da liga\n",
        "Q = 10"
      ]
    },
    {
      "cell_type": "markdown",
      "metadata": {
        "id": "1tHfPbSfxp_k"
      },
      "source": [
        "Cria modelo"
      ]
    },
    {
      "cell_type": "code",
      "source": [
        "# Criando o modelo\n",
        "model = Model(sense = MINIMIZE, solver_name = CBC)\n",
        "\n",
        "# Criando as variáveis\n",
        "l = model.add_var(var_type = CONTINUOUS, name = 'l', lb = 0.0)\n",
        "g = model.add_var(var_type = CONTINUOUS, name = 'g', lb = 0.0)\n",
        "s = model.add_var(var_type = CONTINUOUS, name = 's', lb = 0.0)\n",
        "\n",
        "# Criando a função objetivo\n",
        "model.objective = 90*l + 180*g + 25*s\n",
        "\n",
        "# Restrições\n",
        "c_quantity = a['l']['c']*l + a['g']['c']*g + a['s']['c']*s\n",
        "s_quantity = a['l']['s']*l + a['g']['s']*g + a['s']['s']*s\n",
        "model += c_quantity >= 0\n",
        "model += c_quantity <= 0.95\n",
        "model += s_quantity >= 1.9\n",
        "model += s_quantity <= 2\n",
        "model += l + g + s == 10\n",
        "\n",
        "model.write(\"model.lp\") # salva modelo em arquivo\n",
        "with open(\"model.lp\") as f: # lê e exibe conteúdo do arquivo\n",
        "  print(f.read())"
      ],
      "metadata": {
        "id": "woEL0ub3W17Q",
        "outputId": "46381c90-0a39-40f4-ada8-b2ea11f37d5e",
        "colab": {
          "base_uri": "https://localhost:8080/"
        }
      },
      "execution_count": null,
      "outputs": [
        {
          "output_type": "stream",
          "name": "stdout",
          "text": [
            "\\Problem name: \n",
            "\n",
            "Minimize\n",
            "OBJROW: 90 l + 180 g + 25 s\n",
            "Subject To\n",
            "constr(0):  0.00500 l + 0.90000 g + 0.09000 s >= -0\n",
            "constr(1):  0.00500 l + 0.90000 g + 0.09000 s <= 0.95000\n",
            "constr(2):  0.14000 l + 0.27000 s >= 1.90000\n",
            "constr(3):  0.14000 l + 0.27000 s <= 2\n",
            "constr(4):  l + g + s = 10\n",
            "Bounds\n",
            "End\n",
            "\n"
          ]
        }
      ]
    },
    {
      "cell_type": "markdown",
      "metadata": {
        "id": "dC0dH9Vgx11z"
      },
      "source": [
        "Executa"
      ]
    },
    {
      "cell_type": "code",
      "execution_count": null,
      "metadata": {
        "id": "Ytos1fiAyt5n",
        "outputId": "d085b48e-7225-4865-eb73-5a714783b9e6",
        "colab": {
          "base_uri": "https://localhost:8080/"
        }
      },
      "outputs": [
        {
          "output_type": "stream",
          "name": "stdout",
          "text": [
            "Status =  OptimizationStatus.OPTIMAL\n",
            "Solution value  = 600.00\n",
            "\n",
            "Solution:\n",
            "l = 5.38\n",
            "g = 0.00\n",
            "s = 4.62\n"
          ]
        }
      ],
      "source": [
        "def solve(model):\n",
        "  status = model.optimize()\n",
        "\n",
        "  print(\"Status = \", status)\n",
        "  print(f\"Solution value  = {model.objective_value:.2f}\\n\")\n",
        "  \n",
        "  print(\"Solution:\")\n",
        "  for v in model.vars:\n",
        "      print(f\"{v.name} = {v.x:.2f}\")\n",
        "\n",
        "solve(model)"
      ]
    },
    {
      "cell_type": "markdown",
      "metadata": {
        "id": "0Sp8kCaGsR5E"
      },
      "source": [
        "## Exercício 2"
      ]
    },
    {
      "cell_type": "markdown",
      "metadata": {
        "id": "7PPfPnU7sR5E"
      },
      "source": [
        "Agora considere que os ingredientes tem o estoque limitado, de acordo com a tabela abaixo.\n",
        "\n",
        "| | Lingotes | Grafite | Sucata |\n",
        "|:---|:---:|:---:|:---:|\n",
        "| Estoque (ton) | 5 | 5 | 12 |\n",
        "\n",
        "Como o modelo pode ser modificado para atender a esse requisito?"
      ]
    },
    {
      "cell_type": "markdown",
      "metadata": {
        "id": "fSrbmrBD0fb9"
      },
      "source": [
        "### Código"
      ]
    },
    {
      "cell_type": "markdown",
      "metadata": {
        "id": "2iAz0aU99Dxo"
      },
      "source": [
        "Carrega Dados"
      ]
    },
    {
      "cell_type": "code",
      "execution_count": null,
      "metadata": {
        "id": "Yz_PtRT89GxZ"
      },
      "outputs": [],
      "source": [
        "# estoque\n",
        "e = {'l': 5, 'g': 5, 's': 12}"
      ]
    },
    {
      "cell_type": "markdown",
      "metadata": {
        "id": "s9G5Hep50y0V"
      },
      "source": [
        "Cria modelo"
      ]
    },
    {
      "cell_type": "code",
      "source": [
        "# Adicionando novas restrições ao modelo\n",
        "model += l <= e['l']\n",
        "model += g <= e['g']\n",
        "model += s <= e['s']\n",
        "\n",
        "model.write(\"modelo2.lp\") # salva modelo em arquivo\n",
        "with open(\"modelo2.lp\") as f: # Lê e exibe conteúdo do arquivo\n",
        "  print(f.read())"
      ],
      "metadata": {
        "id": "Ez6lX92UZxBU",
        "outputId": "967c1925-3ff8-49b1-f2a2-da6110098407",
        "colab": {
          "base_uri": "https://localhost:8080/"
        }
      },
      "execution_count": null,
      "outputs": [
        {
          "output_type": "stream",
          "name": "stdout",
          "text": [
            "\\Problem name: \n",
            "\n",
            "Minimize\n",
            "OBJROW: 90 l + 180 g + 25 s\n",
            "Subject To\n",
            "constr(0):  0.00500 l + 0.90000 g + 0.09000 s >= -0\n",
            "constr(1):  0.00500 l + 0.90000 g + 0.09000 s <= 0.95000\n",
            "constr(2):  0.14000 l + 0.27000 s >= 1.90000\n",
            "constr(3):  0.14000 l + 0.27000 s <= 2\n",
            "constr(4):  l + g + s = 10\n",
            "constr(5):  l <= 5\n",
            "constr(6):  g <= 5\n",
            "constr(7):  s <= 12\n",
            "Bounds\n",
            "End\n",
            "\n"
          ]
        }
      ]
    },
    {
      "cell_type": "markdown",
      "metadata": {
        "id": "Ue3ahEFA01L_"
      },
      "source": [
        "Executa"
      ]
    },
    {
      "cell_type": "code",
      "execution_count": null,
      "metadata": {
        "id": "EVs-Fx6D02Tc",
        "outputId": "d1de7b48-a6ef-47ce-d7a0-ca49d65eae37",
        "colab": {
          "base_uri": "https://localhost:8080/"
        }
      },
      "outputs": [
        {
          "output_type": "stream",
          "name": "stdout",
          "text": [
            "Status =  OptimizationStatus.OPTIMAL\n",
            "Solution value  = 603.70\n",
            "\n",
            "Solution:\n",
            "l = 5.00\n",
            "g = 0.19\n",
            "s = 4.81\n"
          ]
        }
      ],
      "source": [
        "solve(model)"
      ]
    },
    {
      "cell_type": "markdown",
      "metadata": {
        "id": "2mE7ipJPsR5F"
      },
      "source": [
        "## Exercício 3"
      ]
    },
    {
      "cell_type": "markdown",
      "metadata": {
        "id": "-Er_QuwBsR5F"
      },
      "source": [
        "Suponha agora que duas ligas metálicas devem ser preparadas e os mesmos ingredientes são utilizados em ambas. A liga especificada no Exercício 1 é referida como liga 1 e devem ser produzidas 10 toneladas desta liga. Da outra liga, referida como liga 2, devem ser produzidas 6 toneladas e sua composição mínima e máxima é dada na tabela abaixo.\n",
        "\n",
        "| | min | max |\n",
        "|:---|:---:|:---:|\n",
        "|Carbono | 0.00 | 0.4 |\n",
        "|Silício | 0.12 | 0.19 |\n"
      ]
    },
    {
      "cell_type": "markdown",
      "metadata": {
        "id": "Ay3bSczF1Ldt"
      },
      "source": [
        "### Código"
      ]
    },
    {
      "cell_type": "markdown",
      "metadata": {
        "id": "v12Efn0tMq3m"
      },
      "source": [
        "Carrega dados"
      ]
    },
    {
      "cell_type": "code",
      "execution_count": null,
      "metadata": {
        "id": "dFhCoNM1MtVy"
      },
      "outputs": [],
      "source": [
        "# composições mínimas e máximas dos componentes\n",
        "n = [{'c': 0.0, 's': 0.19}, {'c': 0.0, 's': 0.12}]\n",
        "m = [{'c': 0.095, 's': 0.2}, {'c': 0.4, 's': 0.19}]\n",
        "\n",
        "# quantidade desejada da liga\n",
        "Q = [10, 6]"
      ]
    },
    {
      "cell_type": "markdown",
      "metadata": {
        "id": "xMEEKulx1SN9"
      },
      "source": [
        "Cria modelo"
      ]
    },
    {
      "cell_type": "code",
      "source": [
        "model = # implementa modelo\n",
        "\n",
        "model.write(\"modelo3.lp\") # salva modelo em arquivo\n",
        "with open(\"modelo3.lp\") as f: # lê e exibe conteúdo do arquivo\n",
        "  print(f.read())"
      ],
      "metadata": {
        "id": "GWULXSegdJct",
        "outputId": "c1017d69-c121-444e-f38d-26b66a617e64",
        "colab": {
          "base_uri": "https://localhost:8080/",
          "height": 132
        }
      },
      "execution_count": null,
      "outputs": [
        {
          "output_type": "error",
          "ename": "SyntaxError",
          "evalue": "ignored",
          "traceback": [
            "\u001b[0;36m  File \u001b[0;32m\"<ipython-input-26-0320eff95589>\"\u001b[0;36m, line \u001b[0;32m1\u001b[0m\n\u001b[0;31m    model = # implementa modelo\u001b[0m\n\u001b[0m                               ^\u001b[0m\n\u001b[0;31mSyntaxError\u001b[0m\u001b[0;31m:\u001b[0m invalid syntax\n"
          ]
        }
      ]
    },
    {
      "cell_type": "markdown",
      "metadata": {
        "id": "8JECPXkw1UYP"
      },
      "source": [
        "Executa"
      ]
    },
    {
      "cell_type": "code",
      "execution_count": null,
      "metadata": {
        "id": "21cod-L71Wmr"
      },
      "outputs": [],
      "source": [
        "solve(model)"
      ]
    }
  ],
  "metadata": {
    "colab": {
      "provenance": []
    },
    "kernelspec": {
      "display_name": "Python 3",
      "language": "python",
      "name": "python3"
    },
    "language_info": {
      "codemirror_mode": {
        "name": "ipython",
        "version": 3
      },
      "file_extension": ".py",
      "mimetype": "text/x-python",
      "name": "python",
      "nbconvert_exporter": "python",
      "pygments_lexer": "ipython3",
      "version": "3.9.12"
    },
    "vscode": {
      "interpreter": {
        "hash": "375d3134e2271422fd67fc0237b3f1ee69ce72c62d280e2fa6411e6a088e62bf"
      }
    }
  },
  "nbformat": 4,
  "nbformat_minor": 0
}