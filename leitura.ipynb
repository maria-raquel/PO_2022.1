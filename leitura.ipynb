{
 "cells": [
  {
   "cell_type": "markdown",
   "metadata": {},
   "source": [
    "#### Branch and Bound\n",
    "João Antonio Honorato, matrícula: 20210026680\n",
    "\n",
    "Maria Raquel Martinez, matrícula: 20200025900"
   ]
  },
  {
   "cell_type": "code",
   "execution_count": 75,
   "metadata": {},
   "outputs": [],
   "source": [
    "from mip import (CBC, CONTINUOUS, MAXIMIZE, Model, xsum)"
   ]
  },
  {
   "cell_type": "code",
   "execution_count": 95,
   "metadata": {},
   "outputs": [],
   "source": [
    "## A função cria_problema lê o arquivo txt com os dados de entrada\n",
    "## e os traduz para um modelo do tipo Model\n",
    "## recebe duas strings, o caminho para o arquivo e um nome para o problema (opcional)\n",
    "def cria_problema(caminho, nome = \"\"):\n",
    "\n",
    "        ## lendo o arquivo:\n",
    "\n",
    "    entrada = open(caminho, \"r\") \n",
    "\n",
    "    linhas = entrada.readlines()\n",
    "    # lista de strings, cada elemento é uma linha da entrada\n",
    "\n",
    "    n_var = int(linhas[0].split()[0]) # número de variáveis\n",
    "    n_restr = int(linhas[0].split()[1]) # número de restrições\n",
    "\n",
    "        ## instanciando o problema:\n",
    "\n",
    "    modelo = Model(nome, sense = MAXIMIZE, solver_name = CBC)\n",
    "\n",
    "    x = {i: modelo.add_var(var_type = CONTINUOUS, name = f'x{i+1}') for i in range(n_var)}\n",
    "\n",
    "    funcao_objetivo = [int(a) for a in linhas[1].split()]\n",
    "\n",
    "    modelo.objective = xsum(funcao_objetivo[i] * x[i] for i in range(n_var))\n",
    "\n",
    "    for i in range(n_restr):\n",
    "        coeficientes = [int(a) for a in linhas[i+2].split()]\n",
    "        modelo += xsum(coeficientes[j] * x[j] for j in range(n_var)) <= coeficientes[-1]\n",
    "\n",
    "    return modelo"
   ]
  },
  {
   "cell_type": "code",
   "execution_count": 91,
   "metadata": {},
   "outputs": [],
   "source": [
    "## função que imprime as informações do modelo\n",
    "## nome, objetivo, função objetivo e restrições\n",
    "def imprime_modelo(model):\n",
    "  model.write(\"model.lp\") # salva modelo em arquivo\n",
    "  with open(\"model.lp\", \"r\") as f: # lê e exibe conteúdo do arquivo\n",
    "    print(f.read())\n",
    "  \n",
    "  # fazemos assim porque write e open são métodos próprios da classe Model\n",
    "  # porém não tem um método para imprimí-lo sem essa gambiarra"
   ]
  },
  {
   "cell_type": "code",
   "execution_count": 96,
   "metadata": {},
   "outputs": [
    {
     "name": "stdout",
     "output_type": "stream",
     "text": [
      "\\Problem name: TESTE 0\n",
      "\n",
      "Minimize\n",
      "OBJROW: -5 x1 -10 x2 -8 x3\n",
      "Subject To\n",
      "constr(0):  3 x1 + 5 x2 + 2 x3 <= 6\n",
      "constr(1):  4 x1 + 4 x2 + 4 x3 <= 7\n",
      "Bounds\n",
      "End\n",
      "\n",
      "\\Problem name: \n",
      "\n",
      "Minimize\n",
      "OBJROW: -5 x1 -10 x2 -8 x3\n",
      "Subject To\n",
      "constr(0):  3 x1 + 5 x2 + 2 x3 <= 6\n",
      "constr(1):  4 x1 + 4 x2 + 4 x3 <= 7\n",
      "Bounds\n",
      "End\n",
      "\n"
     ]
    }
   ],
   "source": [
    "# TESTE\n",
    "\n",
    "modelo_teste = cria_problema(\"testes/teste0.txt\", \"TESTE 0\")\n",
    "modelo_teste2 = cria_problema(\"testes/teste0.txt\")\n",
    "imprime_modelo(modelo_teste)\n",
    "imprime_modelo(modelo_teste2)"
   ]
  }
 ],
 "metadata": {
  "kernelspec": {
   "display_name": "Python 3.8.10 64-bit",
   "language": "python",
   "name": "python3"
  },
  "language_info": {
   "codemirror_mode": {
    "name": "ipython",
    "version": 3
   },
   "file_extension": ".py",
   "mimetype": "text/x-python",
   "name": "python",
   "nbconvert_exporter": "python",
   "pygments_lexer": "ipython3",
   "version": "3.8.10"
  },
  "orig_nbformat": 4,
  "vscode": {
   "interpreter": {
    "hash": "916dbcbb3f70747c44a77c7bcd40155683ae19c65e1c03b4aa3499c5328201f1"
   }
  }
 },
 "nbformat": 4,
 "nbformat_minor": 2
}
