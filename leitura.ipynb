{
 "cells": [
  {
   "cell_type": "markdown",
   "metadata": {},
   "source": [
    "#### Branch and Bound\n",
    "João Antonio Honorato, matrícula: 20210026680\n",
    "\n",
    "Maria Raquel Martinez, matrícula: 20200025900"
   ]
  },
  {
   "cell_type": "code",
   "execution_count": 2,
   "metadata": {},
   "outputs": [
    {
     "name": "stdout",
     "output_type": "stream",
     "text": [
      "Collecting mip\n",
      "  Downloading mip-1.14.1-py3-none-any.whl (15.3 MB)\n",
      "\u001b[K     |████████████████████████████████| 15.3 MB 4.9 MB/s eta 0:00:01\n",
      "\u001b[?25hRequirement already satisfied: cffi==1.15.0 in /home/raquel/.local/lib/python3.8/site-packages (from mip) (1.15.0)\n",
      "Requirement already satisfied: pycparser in /home/raquel/.local/lib/python3.8/site-packages (from cffi==1.15.0->mip) (2.21)\n",
      "Installing collected packages: mip\n",
      "Successfully installed mip-1.14.1\n"
     ]
    }
   ],
   "source": [
    "!pip install mip\n",
    "from mip import (CBC, CONTINUOUS, MAXIMIZE, Model, xsum)"
   ]
  },
  {
   "cell_type": "code",
   "execution_count": 15,
   "metadata": {},
   "outputs": [
    {
     "name": "stdout",
     "output_type": "stream",
     "text": [
      "3\n"
     ]
    }
   ],
   "source": [
    "teste = open(\"testes/teste0.txt\", \"r\") \n",
    "# lendo o aquivo teste\n",
    "\n",
    "tl = teste.readlines()\n",
    "# tl é uma lista de strings, cada linha é uma string da lista\n",
    "\n",
    "nv = int(tl[0][0]) # nv é o número de variáveis\n",
    "nr = int(tl[0][2]) # nr é o número de restrições"
   ]
  }
 ],
 "metadata": {
  "kernelspec": {
   "display_name": "Python 3.8.10 64-bit",
   "language": "python",
   "name": "python3"
  },
  "language_info": {
   "codemirror_mode": {
    "name": "ipython",
    "version": 3
   },
   "file_extension": ".py",
   "mimetype": "text/x-python",
   "name": "python",
   "nbconvert_exporter": "python",
   "pygments_lexer": "ipython3",
   "version": "3.8.10"
  },
  "orig_nbformat": 4,
  "vscode": {
   "interpreter": {
    "hash": "916dbcbb3f70747c44a77c7bcd40155683ae19c65e1c03b4aa3499c5328201f1"
   }
  }
 },
 "nbformat": 4,
 "nbformat_minor": 2
}
