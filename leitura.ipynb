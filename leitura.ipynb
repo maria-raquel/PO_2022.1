{
 "cells": [
  {
   "cell_type": "markdown",
   "metadata": {},
   "source": [
    "#### Branch and Bound\n",
    "João Antonio Honorato, matrícula: 20210026680\n",
    "\n",
    "Maria Raquel Martinez, matrícula: 20200025900"
   ]
  },
  {
   "cell_type": "code",
   "execution_count": 22,
   "metadata": {},
   "outputs": [
    {
     "ename": "ImportError",
     "evalue": "cannot import name 'save' from 'mip' (/home/raquel/.local/lib/python3.8/site-packages/mip/__init__.py)",
     "output_type": "error",
     "traceback": [
      "\u001b[0;31m---------------------------------------------------------------------------\u001b[0m",
      "\u001b[0;31mImportError\u001b[0m                               Traceback (most recent call last)",
      "\u001b[1;32m/home/raquel/Branch_and_Bound/leitura.ipynb Cell 2\u001b[0m in \u001b[0;36m<cell line: 1>\u001b[0;34m()\u001b[0m\n\u001b[0;32m----> <a href='vscode-notebook-cell:/home/raquel/Branch_and_Bound/leitura.ipynb#W1sZmlsZQ%3D%3D?line=0'>1</a>\u001b[0m \u001b[39mfrom\u001b[39;00m \u001b[39mmip\u001b[39;00m \u001b[39mimport\u001b[39;00m (CBC, CONTINUOUS, MAXIMIZE, Model, xsum, save)\n",
      "\u001b[0;31mImportError\u001b[0m: cannot import name 'save' from 'mip' (/home/raquel/.local/lib/python3.8/site-packages/mip/__init__.py)"
     ]
    }
   ],
   "source": [
    "from mip import (CBC, CONTINUOUS, MAXIMIZE, Model, xsum)"
   ]
  },
  {
   "cell_type": "code",
   "execution_count": 49,
   "metadata": {},
   "outputs": [],
   "source": [
    "## A função cria_problema lê o arquivo txt com os dados de entrada\n",
    "## e os traduz para um modelo do tipo Model\n",
    "\n",
    "def cria_problema(caminho):\n",
    "\n",
    "    ## lendo o arquivo\n",
    "\n",
    "    entrada = open(caminho, \"r\") \n",
    "\n",
    "    linhas = entrada.readlines()\n",
    "    # lista de strings, cada linha da entrada é uma string da lista\n",
    "\n",
    "\n",
    "\n",
    "    n_var = int(linhas[0].split()[0]) # número de variáveis\n",
    "    n_restr = int(linhas[0].split()[1]) # número de restrições\n",
    "\n",
    "    ## instanciando o problema\n",
    "\n",
    "    modelo = Model(sense = MAXIMIZE, solver_name = CBC)\n",
    "\n",
    "    x = {i: modelo.add_var(var_type = CONTINUOUS, name = f'x{i+1}') for i in range(n_var)}\n",
    "\n",
    "    funcao_objetivo = [int(a) for a in linhas[1].split()]\n",
    "    # lista com os coeficientes das variáveis na função objetivo\n",
    "\n",
    "    modelo.objective = xsum(funcao_objetivo[i] * x[i] for i in range(n_var))\n",
    "\n",
    "    for i in range(n_restr):\n",
    "        coeficientes = [int(a) for a in linhas[i+2].split()] \n",
    "        # [i+2] já que as restrições começam na 3 linha do arquivo\n",
    "\n",
    "        modelo += xsum(coeficientes[j] * x[j] for j in range(n_var))\n",
    "\n",
    "    return modelo"
   ]
  },
  {
   "cell_type": "code",
   "execution_count": 63,
   "metadata": {},
   "outputs": [
    {
     "ename": "SyntaxError",
     "evalue": "invalid syntax (1245688404.py, line 7)",
     "output_type": "error",
     "traceback": [
      "\u001b[0;36m  Input \u001b[0;32mIn [63]\u001b[0;36m\u001b[0m\n\u001b[0;31m    print(\"Função objetivo: \", modelo.objective_value)\u001b[0m\n\u001b[0m    ^\u001b[0m\n\u001b[0;31mSyntaxError\u001b[0m\u001b[0;31m:\u001b[0m invalid syntax\n"
     ]
    }
   ],
   "source": [
    "modelo1 = cria_problema(\"testes/teste0.txt\")\n",
    "\n",
    "\n",
    "\n",
    "def imprime_problema(modelo):\n",
    "  print(\"Variáveis: \", modelo.vars[i].x for i in range(len(modelo.vars))\n",
    "  print(\"Função objetivo: \", modelo.objective_value)\n",
    "  print(\"Restrições: \", print([v.x for v in modelo.vars]))\n",
    "\n",
    "imprime_problema(modelo1)"
   ]
  },
  {
   "cell_type": "code",
   "execution_count": null,
   "metadata": {},
   "outputs": [],
   "source": [
    "  print(\"Variáveis: \", modelo.vars)\n",
    "  print(\"Função objetivo: \", modelo.objective)\n",
    "  print(\"Restrições: \", print([v.x for v in modelo.vars]))\n",
    "\n",
    "imprime_problema(modelo1)"
   ]
  },
  {
   "cell_type": "code",
   "execution_count": null,
   "metadata": {},
   "outputs": [],
   "source": [
    "## lendo o arquivo\n",
    "\n",
    "entrada = open(caminho, \"r\") \n",
    "\n",
    "linhas = entrada.readlines()\n",
    "# lista de strings, cada linha da entrada é uma string da lista\n",
    "\n",
    "\n",
    "\n",
    "n_var = int(linhas[0].split()[0]) # número de variáveis\n",
    "n_restr = int(linhas[0].split()[1]) # número de restrições\n",
    "\n",
    "## instanciando o problema\n",
    "\n",
    "modelo = Model(sense = MAXIMIZE, solver_name = CBC)\n",
    "\n",
    "x = {i: modelo.add_var(var_type = CONTINUOUS, name = f'x{i+1}') for i in range(n_var)}\n",
    "\n",
    "funcao_objetivo = [int(a) for a in linhas[1].split()]\n",
    "# lista com os coeficientes das variáveis na função objetivo\n",
    "\n",
    "modelo.objective = xsum(funcao_objetivo[i] * x[i] for i in range(n_var))\n",
    "\n",
    "for i in range(n_restr):\n",
    "    coeficientes = [int(a) for a in linhas[i+2].split()] \n",
    "    # [i+2] já que as restrições começam na 3 linha do arquivo\n",
    "\n",
    "    modelo += xsum(coeficientes[j] * x[j] for j in range(n_var))\n",
    "\n",
    "return modelo"
   ]
  }
 ],
 "metadata": {
  "kernelspec": {
   "display_name": "Python 3.8.10 64-bit",
   "language": "python",
   "name": "python3"
  },
  "language_info": {
   "codemirror_mode": {
    "name": "ipython",
    "version": 3
   },
   "file_extension": ".py",
   "mimetype": "text/x-python",
   "name": "python",
   "nbconvert_exporter": "python",
   "pygments_lexer": "ipython3",
   "version": "3.8.10"
  },
  "orig_nbformat": 4,
  "vscode": {
   "interpreter": {
    "hash": "916dbcbb3f70747c44a77c7bcd40155683ae19c65e1c03b4aa3499c5328201f1"
   }
  }
 },
 "nbformat": 4,
 "nbformat_minor": 2
}
