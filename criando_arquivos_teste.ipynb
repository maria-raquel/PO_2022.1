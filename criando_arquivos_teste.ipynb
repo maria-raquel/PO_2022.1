{
 "cells": [
  {
   "cell_type": "code",
   "execution_count": 23,
   "metadata": {},
   "outputs": [
    {
     "name": "stdout",
     "output_type": "stream",
     "text": [
      "5 7 8 1 7 5 6 20\n",
      "1 6 4 9 10 6 10 30\n",
      "4 4 4 1 5 5 10 40\n",
      "3 10 8 1 3 3 8 30\n",
      "10 8 9 9 7 6 10 20\n",
      "6 6 3 6 3 7 2 80\n",
      "7 10 7 8 7 8 7 100\n",
      "9 8 1 1 8 10 2 90\n",
      "1 5 3 10 2 4 9 70\n",
      "9 6 1 4 7 5 10 60\n",
      "5 7 4 4 3 4 10 40\n"
     ]
    }
   ],
   "source": [
    "teste1 = [\n",
    "\"5x 1 + 7x 2 + 8x 3 + 1x 4 + 7x 5 + 5x 6 + 6x 7 ≤ 20\",\n",
    "\"1x 1 + 6x 2 + 4x 3 + 9x 4 + 10x 5 + 6x 6 + 10x 7 ≤ 30\",\n",
    "\"4x 1 + 4x 2 + 4x 3 + 1x 4 + 5x 5 + 5x 6 + 10x 7 ≤ 40\",\n",
    "\"3x 1 + 10x 2 + 8x 3 + 1x 4 + 3x 5 + 3x 6 + 8x 7 ≤ 30\",\n",
    "\"10x 1 + 8x 2 + 9x 3 + 9x 4 + 7x 5 + 6x 6 + 10x 7 ≤ 20\",\n",
    "\"6x 1 + 6x 2 + 3x 3 + 6x 4 + 3x 5 + 7x 6 + 2x 7 ≤ 80\",\n",
    "\"7x 1 + 10x 2 + 7x 3 + 8x 4 + 7x 5 + 8x 6 + 7x 7 ≤ 100\",\n",
    "\"9x 1 + 8x 2 + 1x 3 + 1x 4 + 8x 5 + 10x 6 + 2x 7 ≤ 90\",\n",
    "\"1x 1 + 5x 2 + 3x 3 + 10x 4 + 2x 5 + 4x 6 + 9x 7 ≤ 70\",\n",
    "\"9x 1 + 6x 2 + 1x 3 + 4x 4 + 7x 5 + 5x 6 + 10x 7 ≤ 60\",\n",
    "\"5x 1 + 7x 2 + 4x 3 + 4x 4 + 3x 5 + 4x 6 + 10x 7 ≤ 40\"\n",
    "]\n",
    "\n",
    "for a in teste1:\n",
    "    for i in range(1, 7):\n",
    "        a = a.replace(f\"x {i} +\", \"\")\n",
    "    a = a.replace(\"x 7 ≤\", \"\")\n",
    "    print(a)"
   ]
  }
 ],
 "metadata": {
  "kernelspec": {
   "display_name": "Python 3.8.10 64-bit",
   "language": "python",
   "name": "python3"
  },
  "language_info": {
   "codemirror_mode": {
    "name": "ipython",
    "version": 3
   },
   "file_extension": ".py",
   "mimetype": "text/x-python",
   "name": "python",
   "nbconvert_exporter": "python",
   "pygments_lexer": "ipython3",
   "version": "3.8.10"
  },
  "orig_nbformat": 4,
  "vscode": {
   "interpreter": {
    "hash": "31f2aee4e71d21fbe5cf8b01ff0e069b9275f58929596ceb00d14d90e3e16cd6"
   }
  }
 },
 "nbformat": 4,
 "nbformat_minor": 2
}
